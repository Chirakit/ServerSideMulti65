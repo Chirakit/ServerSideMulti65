{
 "cells": [
  {
   "cell_type": "code",
   "execution_count": 5,
   "id": "46da5941",
   "metadata": {},
   "outputs": [],
   "source": [
    "import os\n",
    "os.environ['DJANGO_ALLOW_ASYNC_UNSAFE'] = \"true\""
   ]
  },
  {
   "cell_type": "code",
   "execution_count": 2,
   "id": "a0a9a933",
   "metadata": {},
   "outputs": [],
   "source": [
    "from companies.models import Company"
   ]
  },
  {
   "cell_type": "code",
   "execution_count": 4,
   "id": "74716a7d",
   "metadata": {},
   "outputs": [
    {
     "data": {
      "text/plain": [
       "<Company: Company CCC>"
      ]
     },
     "execution_count": 4,
     "metadata": {},
     "output_type": "execute_result"
    }
   ],
   "source": [
    "Company.objects.create(name=\"Company AAA\", num_employees=120, num_chairs=150, num_tables=60)\n",
    "Company.objects.create(name=\"Company BBB\", num_employees=50, num_chairs=30, num_tables=20)\n",
    "Company.objects.create(name=\"Company CCC\", num_employees=100, num_chairs=40, num_tables=40)"
   ]
  },
  {
   "cell_type": "code",
   "execution_count": 5,
   "id": "3bbf106d",
   "metadata": {},
   "outputs": [],
   "source": [
    "from django.db.models import Count, F, Value\n",
    "from django.db.models.functions import Length, Upper\n",
    "from django.db.models.lookups import GreaterThan"
   ]
  },
  {
   "cell_type": "code",
   "execution_count": 6,
   "id": "83316144",
   "metadata": {},
   "outputs": [],
   "source": [
    "company = Company.objects.create(name=\"Google\", \n",
    "                                 ticker=Upper(Value(\"goog\")), \n",
    "                                 num_employees=10, \n",
    "                                 num_tables=20, \n",
    "                                 num_chairs=20\n",
    ")"
   ]
  },
  {
   "cell_type": "code",
   "execution_count": 7,
   "id": "fc48921f",
   "metadata": {},
   "outputs": [],
   "source": [
    "companies = Company.objects.all().annotate(name_upper=Upper('name'))"
   ]
  },
  {
   "cell_type": "code",
   "execution_count": 8,
   "id": "004570bf",
   "metadata": {},
   "outputs": [
    {
     "name": "stdout",
     "output_type": "stream",
     "text": [
      "Name: Company AAA, Name Upper: COMPANY AAA\n",
      "Name: Company BBB, Name Upper: COMPANY BBB\n",
      "Name: Company CCC, Name Upper: COMPANY CCC\n",
      "Name: Google, Name Upper: GOOGLE\n"
     ]
    }
   ],
   "source": [
    "for com in companies:\n",
    "    print(f\"Name: {com.name}, Name Upper: {com.name_upper}\")"
   ]
  },
  {
   "cell_type": "code",
   "execution_count": 9,
   "id": "44d53eee",
   "metadata": {},
   "outputs": [
    {
     "name": "stdout",
     "output_type": "stream",
     "text": [
      "SELECT \"companies_company\".\"id\", \"companies_company\".\"name\", \"companies_company\".\"ticker\", \"companies_company\".\"num_employees\", \"companies_company\".\"num_tables\", \"companies_company\".\"num_chairs\", UPPER(\"companies_company\".\"name\") AS \"name_upper\" FROM \"companies_company\"\n"
     ]
    }
   ],
   "source": [
    "print(companies.query)"
   ]
  },
  {
   "cell_type": "code",
   "execution_count": 16,
   "id": "57cf04f8",
   "metadata": {},
   "outputs": [],
   "source": [
    "companies = (\n",
    "    Company.objects.filter(num_employees__gt=F(\"num_chairs\"))\n",
    "    .annotate(chairs_needed=F(\"num_employees\") - F(\"num_chairs\"))\n",
    "    .first()\n",
    "    )"
   ]
  },
  {
   "cell_type": "code",
   "execution_count": 17,
   "id": "ab7c411e",
   "metadata": {},
   "outputs": [
    {
     "ename": "TypeError",
     "evalue": "'Company' object is not iterable",
     "output_type": "error",
     "traceback": [
      "\u001b[1;31m---------------------------------------------------------------------------\u001b[0m",
      "\u001b[1;31mTypeError\u001b[0m                                 Traceback (most recent call last)",
      "Cell \u001b[1;32mIn[17], line 1\u001b[0m\n\u001b[1;32m----> 1\u001b[0m \u001b[38;5;28;01mfor\u001b[39;00m com \u001b[38;5;129;01min\u001b[39;00m companies:\n\u001b[0;32m      2\u001b[0m     \u001b[38;5;28mprint\u001b[39m(\u001b[38;5;124mF\u001b[39m\u001b[38;5;124m\"\u001b[39m\u001b[38;5;124mName: \u001b[39m\u001b[38;5;132;01m{\u001b[39;00mcom\u001b[38;5;241m.\u001b[39mname\u001b[38;5;132;01m}\u001b[39;00m\u001b[38;5;124m, Chairs needed: \u001b[39m\u001b[38;5;132;01m{\u001b[39;00mcom\u001b[38;5;241m.\u001b[39mchairs_needed\u001b[38;5;132;01m}\u001b[39;00m\u001b[38;5;124m\"\u001b[39m)\n",
      "\u001b[1;31mTypeError\u001b[0m: 'Company' object is not iterable"
     ]
    }
   ],
   "source": [
    "for com in companies:\n",
    "    print(F\"Name: {com.name}, Chairs needed: {com.chairs_needed}\")"
   ]
  },
  {
   "cell_type": "code",
   "execution_count": 18,
   "id": "6941026b",
   "metadata": {},
   "outputs": [
    {
     "data": {
      "text/plain": [
       "<QuerySet [<Company: Google>, <Company: Company AAA>, <Company: Company BBB>, <Company: Company CCC>]>"
      ]
     },
     "execution_count": 18,
     "metadata": {},
     "output_type": "execute_result"
    }
   ],
   "source": [
    "Company.objects.order_by(Length(\"name\").asc())"
   ]
  },
  {
   "cell_type": "code",
   "execution_count": 19,
   "id": "63a0380e",
   "metadata": {},
   "outputs": [
    {
     "data": {
      "text/plain": [
       "<QuerySet [<Company: Company AAA>, <Company: Company BBB>, <Company: Company CCC>, <Company: Google>]>"
      ]
     },
     "execution_count": 19,
     "metadata": {},
     "output_type": "execute_result"
    }
   ],
   "source": [
    "Company.objects.order_by(Length(\"name\").desc())"
   ]
  },
  {
   "cell_type": "code",
   "execution_count": null,
   "id": "ee6586f2",
   "metadata": {},
   "outputs": [],
   "source": [
    "companies = Company.objects.annotate(\n",
    "need_chairs = \n",
    ")"
   ]
  },
  {
   "cell_type": "code",
   "execution_count": 6,
   "id": "dea6c75a",
   "metadata": {},
   "outputs": [],
   "source": [
    "from books.models import Book"
   ]
  },
  {
   "cell_type": "code",
   "execution_count": 7,
   "id": "22b26128",
   "metadata": {},
   "outputs": [
    {
     "data": {
      "text/plain": [
       "{'sum_price': Decimal('572.41')}"
      ]
     },
     "execution_count": 7,
     "metadata": {},
     "output_type": "execute_result"
    }
   ],
   "source": [
    "from django.db.models import Avg, Sum, Count, Min, Max\n",
    "Book.objects.aggregate(sum_price=Sum('price'))"
   ]
  },
  {
   "cell_type": "code",
   "execution_count": 8,
   "id": "c273c24b",
   "metadata": {},
   "outputs": [
    {
     "data": {
      "text/plain": [
       "{'avg_rate': 4.277966101694915}"
      ]
     },
     "execution_count": 8,
     "metadata": {},
     "output_type": "execute_result"
    }
   ],
   "source": [
    "Book.objects.aggregate(avg_rate=Avg('rating'))"
   ]
  },
  {
   "cell_type": "code",
   "execution_count": 12,
   "id": "c61f12ca",
   "metadata": {},
   "outputs": [
    {
     "data": {
      "text/plain": [
       "{'avg_publisher': 4.340000000000001}"
      ]
     },
     "execution_count": 12,
     "metadata": {},
     "output_type": "execute_result"
    }
   ],
   "source": [
    "Book.objects.filter(publisher__name='Penguin Books').aggregate(avg_publisher=Avg('rating'))"
   ]
  },
  {
   "cell_type": "code",
   "execution_count": 13,
   "id": "4e97bed8",
   "metadata": {},
   "outputs": [
    {
     "data": {
      "text/plain": [
       "{'avg_publisher': 4.246153846153847}"
      ]
     },
     "execution_count": 13,
     "metadata": {},
     "output_type": "execute_result"
    }
   ],
   "source": [
    "Book.objects.filter(publisher__name='Oxford University Press').aggregate(avg_publisher=Avg('rating'))"
   ]
  },
  {
   "cell_type": "code",
   "execution_count": 17,
   "id": "143df7c8",
   "metadata": {},
   "outputs": [
    {
     "data": {
      "text/plain": [
       "<QuerySet [{'id': 1, 'name': 'Penguin Books', 'num_books': 20}, {'id': 2, 'name': 'Oxford University Press', 'num_books': 39}]>"
      ]
     },
     "execution_count": 17,
     "metadata": {},
     "output_type": "execute_result"
    }
   ],
   "source": [
    "Publisher.objects.annotate(num_books=Count(\"book\")).values()"
   ]
  },
  {
   "cell_type": "code",
   "execution_count": 20,
   "id": "74f9d166",
   "metadata": {},
   "outputs": [
    {
     "data": {
      "text/plain": [
       "<QuerySet [{'id': 1, 'name': 'Penguin Books', 'num_book': 4.340000000000001}, {'id': 2, 'name': 'Oxford University Press', 'num_book': 4.246153846153847}]>"
      ]
     },
     "execution_count": 20,
     "metadata": {},
     "output_type": "execute_result"
    }
   ],
   "source": [
    "Publisher.objects.annotate(num_book=Avg('book__rating')).values()"
   ]
  },
  {
   "cell_type": "code",
   "execution_count": 22,
   "id": "71305d46",
   "metadata": {},
   "outputs": [
    {
     "data": {
      "text/plain": [
       "<QuerySet [{'id': 22, 'name': 'Joseph Heller', 'age': 76, 'avg_rating': 4.3}, {'id': 4, 'name': 'Jane Austen', 'age': 41, 'avg_rating': 4.4}, {'id': 6, 'name': 'Herman Melville', 'age': 72, 'avg_rating': 4.4}, {'id': 2, 'name': 'George Orwell', 'age': 46, 'avg_rating': 4.425}, {'id': 7, 'name': 'Leo Tolstoy', 'age': 82, 'avg_rating': 4.4}, {'id': 20, 'name': 'Emily Brontë', 'age': 30, 'avg_rating': 4.333333333333333}, {'id': 1, 'name': 'F. Scott Fitzgerald', 'age': 44, 'avg_rating': 4.3999999999999995}, {'id': 18, 'name': 'Ray Bradbury', 'age': 91, 'avg_rating': 4.5}, {'id': 11, 'name': 'Gabriel García Márquez', 'age': 87, 'avg_rating': 4.25}, {'id': 9, 'name': 'Fyodor Dostoevsky', 'age': 59, 'avg_rating': 4.34}, {'id': 16, 'name': 'Mary Shelley', 'age': 53, 'avg_rating': 4.5}, {'id': 12, 'name': 'Aldous Huxley', 'age': 69, 'avg_rating': 4.4}]>"
      ]
     },
     "execution_count": 22,
     "metadata": {},
     "output_type": "execute_result"
    }
   ],
   "source": [
    "from books.models import Author\n",
    "Author.objects.annotate(avg_rating=Avg('book__rating')).filter(avg_rating__gt=4.2).values()"
   ]
  },
  {
   "cell_type": "code",
   "execution_count": 26,
   "id": "f368f597",
   "metadata": {},
   "outputs": [
    {
     "data": {
      "text/plain": [
       "<QuerySet [{'id': 1, 'name': 'The Great Gatsby', 'pages': 180, 'price': Decimal('10.99'), 'rating': 4.3, 'publisher_id': 1, 'pubdate': datetime.date(1925, 4, 10)}, {'id': 5, 'name': 'The Catcher in the Rye', 'pages': 277, 'price': Decimal('6.99'), 'rating': 3.9, 'publisher_id': 1, 'pubdate': datetime.date(1951, 7, 16)}, {'id': 8, 'name': 'The Odyssey', 'pages': 541, 'price': Decimal('9.99'), 'rating': 4.7, 'publisher_id': 1, 'pubdate': datetime.date(800, 12, 1)}, {'id': 14, 'name': 'The Hobbit', 'pages': 310, 'price': Decimal('10.49'), 'rating': 4.7, 'publisher_id': 1, 'pubdate': datetime.date(1937, 9, 21)}, {'id': 17, 'name': 'The Hitchhiker Guide to the Galaxy', 'pages': 224, 'price': Decimal('6.99'), 'rating': 4.5, 'publisher_id': 1, 'pubdate': datetime.date(1979, 10, 12)}]>"
      ]
     },
     "execution_count": 26,
     "metadata": {},
     "output_type": "execute_result"
    }
   ],
   "source": [
    "Book.objects.filter(name__startswith='The', publisher__name='Penguin Books').values()"
   ]
  },
  {
   "cell_type": "code",
   "execution_count": 27,
   "id": "86708b63",
   "metadata": {},
   "outputs": [],
   "source": [
    "a1 = Author.objects.get(pk=1)\n",
    "a2 = Author.objects.get(pk=2)\n",
    "\n",
    "book = Book.objects.get(pk=10)"
   ]
  },
  {
   "cell_type": "code",
   "execution_count": 28,
   "id": "e4edcfb5",
   "metadata": {},
   "outputs": [],
   "source": [
    "book.authors.add(a2)"
   ]
  },
  {
   "cell_type": "code",
   "execution_count": 29,
   "id": "614e90ee",
   "metadata": {},
   "outputs": [
    {
     "data": {
      "text/plain": [
       "<QuerySet [<Author: Author object (2)>, <Author: Author object (5)>]>"
      ]
     },
     "execution_count": 29,
     "metadata": {},
     "output_type": "execute_result"
    }
   ],
   "source": [
    "book.authors.all()"
   ]
  },
  {
   "cell_type": "code",
   "execution_count": 30,
   "id": "bf25e7ab",
   "metadata": {},
   "outputs": [
    {
     "data": {
      "text/plain": [
       "2"
      ]
     },
     "execution_count": 30,
     "metadata": {},
     "output_type": "execute_result"
    }
   ],
   "source": [
    "book.authors.count()"
   ]
  },
  {
   "cell_type": "code",
   "execution_count": 31,
   "id": "cb939a37",
   "metadata": {},
   "outputs": [],
   "source": [
    "a1.book_set.add(book)"
   ]
  },
  {
   "cell_type": "code",
   "execution_count": 32,
   "id": "842eaade",
   "metadata": {},
   "outputs": [
    {
     "data": {
      "text/plain": [
       "<QuerySet [<Book: Book object (2)>, <Book: Book object (10)>, <Book: Book object (21)>, <Book: Book object (31)>, <Book: Book object (51)>]>"
      ]
     },
     "execution_count": 32,
     "metadata": {},
     "output_type": "execute_result"
    }
   ],
   "source": [
    "a1.book_set.all()"
   ]
  },
  {
   "cell_type": "code",
   "execution_count": 33,
   "id": "d9b944d0",
   "metadata": {},
   "outputs": [],
   "source": [
    "a1.book_set.remove(book)"
   ]
  },
  {
   "cell_type": "code",
   "execution_count": 34,
   "id": "a163793c",
   "metadata": {},
   "outputs": [
    {
     "data": {
      "text/plain": [
       "<QuerySet [<Book: Book object (2)>, <Book: Book object (21)>, <Book: Book object (31)>, <Book: Book object (51)>]>"
      ]
     },
     "execution_count": 34,
     "metadata": {},
     "output_type": "execute_result"
    }
   ],
   "source": [
    "a1.book_set.all()"
   ]
  },
  {
   "cell_type": "code",
   "execution_count": null,
   "id": "da63e8df",
   "metadata": {},
   "outputs": [],
   "source": []
  }
 ],
 "metadata": {
  "kernelspec": {
   "display_name": "Django Shell-Plus",
   "language": "python",
   "name": "django_extensions"
  },
  "language_info": {
   "codemirror_mode": {
    "name": "ipython",
    "version": 3
   },
   "file_extension": ".py",
   "mimetype": "text/x-python",
   "name": "python",
   "nbconvert_exporter": "python",
   "pygments_lexer": "ipython3",
   "version": "3.10.5"
  }
 },
 "nbformat": 4,
 "nbformat_minor": 5
}
