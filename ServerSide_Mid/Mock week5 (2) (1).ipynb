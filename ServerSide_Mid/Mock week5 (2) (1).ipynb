{
 "cells": [
  {
   "cell_type": "markdown",
   "id": "cd7d24df",
   "metadata": {},
   "source": [
    "# **หมายเหตุ: รบกวนรี database ถ้าอยากได้ข้อมูลตรง**"
   ]
  },
  {
   "cell_type": "code",
   "execution_count": 1,
   "id": "6a5941a4",
   "metadata": {},
   "outputs": [],
   "source": [
    "import os\n",
    "os.environ['DJANGO_ALLOW_ASYNC_UNSAFE'] = \"true\"\n",
    "\n",
    "# import modules\n",
    "from shop.models import *"
   ]
  },
  {
   "cell_type": "markdown",
   "id": "6dd0e302",
   "metadata": {},
   "source": [
    "### 1. annotate()\n",
    "1.1 ให้ค้นหาข้อมูล `Product` โดยให้เพิ่ม field ราคารวมทั้งหมดของสินค้า โดยกำหนดให้ชื่อ field ว่า \"total_price\" โดยใช้แสดงข้อมูล 5 ตัวแรกเรียงตาม \"total_price\" จากมากไปน้อย\n",
    "\n",
    "**หมายเหตุ: จะต้องใช้ annotate() ให้เอา `Product.price` * `Product.remaining_amount`**\n",
    "\n",
    "ตัวอย่าง Output\n",
    "\n",
    "```\n",
    "ID: 61, PRICE: 320000.00, AMOUNT: 10, TOTAL PRICE: 3200000.00\n",
    "ID: 65, PRICE: 1200000.00, AMOUNT: 2, TOTAL PRICE: 2400000.00\n",
    "ID: 62, PRICE: 70000.00, AMOUNT: 15, TOTAL PRICE: 1050000.00\n",
    "ID: 63, PRICE: 59000.00, AMOUNT: 12, TOTAL PRICE: 708000.00\n",
    "ID: 14, PRICE: 18900.00, AMOUNT: 30, TOTAL PRICE: 567000.00\n",
    "```"
   ]
  },
  {
   "cell_type": "code",
   "execution_count": 3,
   "id": "2c5711fa",
   "metadata": {},
   "outputs": [
    {
     "name": "stdout",
     "output_type": "stream",
     "text": [
      "ID: 71, PRICE: 52465.00, AMOUNT: 100, TOTAL PRICE: 5246500.00\n",
      "ID: 61, PRICE: 320000.00, AMOUNT: 10, TOTAL PRICE: 3200000.00\n",
      "ID: 65, PRICE: 1200000.00, AMOUNT: 2, TOTAL PRICE: 2400000.00\n",
      "ID: 62, PRICE: 70000.00, AMOUNT: 15, TOTAL PRICE: 1050000.00\n",
      "ID: 63, PRICE: 59000.00, AMOUNT: 12, TOTAL PRICE: 708000.00\n"
     ]
    }
   ],
   "source": [
    "query = Product.objects.annotate(total_price = F(\"price\")*F(\"remaining_amount\")).order_by(\"-total_price\")[:5]\n",
    "for i in query:\n",
    "    print(f\"ID: {i.id}, PRICE: {i.price}, AMOUNT: {i.remaining_amount}, TOTAL PRICE: {i.total_price}\")"
   ]
  },
  {
   "cell_type": "markdown",
   "id": "01aa1576",
   "metadata": {},
   "source": [
    "1.2 ต่อเนื่องจากข้อ 1.1 ให้ filter เฉพาะข้อมูล Product ที่มี \"total_price\" มากกว่า 1,000,000 และ \"remaining_amount\" น้อยกว่า 10 ชิ้น\n",
    "\n",
    "ตัวอย่าง Output\n",
    "\n",
    "```\n",
    "ID: 65, PRICE: 1200000.00, AMOUNT: 2, TOTAL PRICE: 2400000.00\n",
    "```"
   ]
  },
  {
   "cell_type": "code",
   "execution_count": 4,
   "id": "b8890c7f",
   "metadata": {
    "scrolled": true
   },
   "outputs": [
    {
     "name": "stdout",
     "output_type": "stream",
     "text": [
      "ID: 65, PRICE: 1200000.00, AMOUNT: 2, TOTAL PRICE: 2400000.00\n"
     ]
    }
   ],
   "source": [
    "query = Product.objects.annotate(total_price = F(\"price\")*F(\"remaining_amount\"))\\\n",
    ".filter(total_price__gt = 1000000, remaining_amount__lt = 10)\n",
    "for i in query:\n",
    "    print(f\"ID: {i.id}, PRICE: {i.price}, AMOUNT: {i.remaining_amount}, TOTAL PRICE: {i.total_price}\")"
   ]
  },
  {
   "cell_type": "markdown",
   "id": "e9bb1b78",
   "metadata": {},
   "source": [
    "1.3 ให้นักศึกษาเรียงลำดับข้อมูลลูกค้า (`Customer`) แสดงเพียงแค่ field `id`, `email` และ `full_name` โดยเรียงลำดับข้อมูลตาม (`id`) จาก `น้อยไปมาก` โดยแสดง 10 คนแรก \n",
    "\n",
    "**Hint:** Field `full_name` นั้นจะต้องถูก annotate ขึ้นมาโดยการนำ `first_name` มาต่อกับ `last_name` โดยใช้ `Concat(*expressions, **extra)` \n",
    "\n",
    "```python\n",
    ">>> Product.objects.filter(description__icontains=\"advance\").values()\n",
    "<QuerySet [{'id': 1, 'name': 'Smartphone', 'description': 'A sleek and powerful smartphone with advanced features.', 'remaining_amount': 24, 'price': Decimal('5900.00')}, {'id': 7, 'name': 'Digital Camera', 'description': 'High-resolution digital camera with advanced photography features.', 'remaining_amount': 4, 'price': Decimal('32000.00')}]>\n",
    "```\n",
    "\n",
    "**Hint:** แปลง object เป็น dict ใช้ `values()`\n",
    "\n",
    "**Hint:** อยาก print dictionary สวยๆ ใช้ `json.dumps`\n",
    "\n",
    "```python\n",
    "print(json.dumps(dictionary, indent=4, sort_keys=False))\n",
    "```\n",
    "\n",
    "ตัวอย่าง Output \n",
    "\n",
    "```\n",
    "[\n",
    "    {\n",
    "        \"id\": 1,\n",
    "        \"email\": \"panita.hong@gmail.com\",\n",
    "        \"full_name\": \"Panita Hongsakulpan\"\n",
    "    },\n",
    "    {\n",
    "        \"id\": 2,\n",
    "        \"email\": \"pakin.jan@gmail.com\",\n",
    "        \"full_name\": \"Pakin Janpen\"\n",
    "    },\n",
    "    {\n",
    "        \"id\": 3,\n",
    "        \"email\": \"jenjira.su@gmail.com\",\n",
    "        \"full_name\": \"Jenjira Sukanansarn\"\n",
    "    },\n",
    "    {\n",
    "        \"id\": 4,\n",
    "        \"email\": \"dejwit.tt@gmail.com\",\n",
    "        \"full_name\": \"Dejwit Tangjareonsakul\"\n",
    "    },\n",
    "    {\n",
    "        \"id\": 5,\n",
    "        \"email\": \"pong.23@gmail.com\",\n",
    "        \"full_name\": \"Pong Sawadiwong\"\n",
    "    },\n",
    "    {\n",
    "        \"id\": 6,\n",
    "        \"email\": \"thiti.za@gmail.com\",\n",
    "        \"full_name\": \"Thitirat Sukkesorn\"\n",
    "    },\n",
    "    {\n",
    "        \"id\": 7,\n",
    "        \"email\": \"prontipa.za@gmail.com\",\n",
    "        \"full_name\": \"Porntipa Pasakul\"\n",
    "    },\n",
    "    {\n",
    "        \"id\": 8,\n",
    "        \"email\": \"warit.za@gmail.com\",\n",
    "        \"full_name\": \"Warit Pititat\"\n",
    "    },\n",
    "    {\n",
    "        \"id\": 9,\n",
    "        \"email\": \"sira.za@gmail.com\",\n",
    "        \"full_name\": \"Sira Pititat\"\n",
    "    },\n",
    "    {\n",
    "        \"id\": 10,\n",
    "        \"email\": \"wanaporn.over@gmail.com\",\n",
    "        \"full_name\": \"Wanaporn Klabpetch\"\n",
    "    }\n",
    "]\n",
    "```"
   ]
  },
  {
   "cell_type": "code",
   "execution_count": 11,
   "id": "52d944d1",
   "metadata": {},
   "outputs": [
    {
     "name": "stdout",
     "output_type": "stream",
     "text": [
      "[\n",
      "    {\n",
      "        \"id\": 1,\n",
      "        \"email\": \"panita.hong@gmail.com\",\n",
      "        \"full_name\": \"Panita Hongsakulpan\"\n",
      "    },\n",
      "    {\n",
      "        \"id\": 2,\n",
      "        \"email\": \"pakin.jan@gmail.com\",\n",
      "        \"full_name\": \"Pakin Janpen\"\n",
      "    },\n",
      "    {\n",
      "        \"id\": 3,\n",
      "        \"email\": \"jenjira.su@gmail.com\",\n",
      "        \"full_name\": \"Jenjira Sukanansarn\"\n",
      "    },\n",
      "    {\n",
      "        \"id\": 4,\n",
      "        \"email\": \"dejwit.tt@gmail.com\",\n",
      "        \"full_name\": \"Dejwit Tangjareonsakul\"\n",
      "    },\n",
      "    {\n",
      "        \"id\": 5,\n",
      "        \"email\": \"pong.23@gmail.com\",\n",
      "        \"full_name\": \"Pong Sawadiwong\"\n",
      "    },\n",
      "    {\n",
      "        \"id\": 6,\n",
      "        \"email\": \"thiti.za@gmail.com\",\n",
      "        \"full_name\": \"Thitirat Sukkesorn\"\n",
      "    },\n",
      "    {\n",
      "        \"id\": 7,\n",
      "        \"email\": \"prontipa.za@gmail.com\",\n",
      "        \"full_name\": \"Porntipa Pasakul\"\n",
      "    },\n",
      "    {\n",
      "        \"id\": 8,\n",
      "        \"email\": \"warit.za@gmail.com\",\n",
      "        \"full_name\": \"Warit Pititat\"\n",
      "    },\n",
      "    {\n",
      "        \"id\": 9,\n",
      "        \"email\": \"sira.za@gmail.com\",\n",
      "        \"full_name\": \"Sira Pititat\"\n",
      "    },\n",
      "    {\n",
      "        \"id\": 10,\n",
      "        \"email\": \"wanaporn.over@gmail.com\",\n",
      "        \"full_name\": \"Wanaporn Klabpetch\"\n",
      "    }\n",
      "]\n"
     ]
    }
   ],
   "source": [
    "import json\n",
    "from django.db.models.functions import *\n",
    "from django.db.models import *\n",
    "query = Customer.objects.annotate(full_name = Concat(F(\"first_name\"), Value(\" \") ,F(\"last_name\"))).values(\"id\", \"email\", \"full_name\")[:10]\n",
    "print(json.dumps(list(query), indent=4, sort_keys = False))"
   ]
  },
  {
   "cell_type": "markdown",
   "id": "b9951ec5",
   "metadata": {},
   "source": [
    "### 2. aggregation\n",
    "2.1 ให้นักศึกษาหาค่าเฉลี่ยของราคาสินค้า (`Product.price`) ที่มีจำนวนคงเหลือ (`Product.remaining_amount`) ตั้งแต่ 100 ชิ้นขึ้นไป \n",
    "\n",
    "ตัวอย่าง Output \n",
    "\n",
    "``` PYTHON\n",
    "Average Price: 664.4545454545454545\n",
    "```\n"
   ]
  },
  {
   "cell_type": "code",
   "execution_count": 15,
   "id": "a429d26c",
   "metadata": {
    "scrolled": true
   },
   "outputs": [
    {
     "name": "stdout",
     "output_type": "stream",
     "text": [
      "{'avg': Decimal('4641.0769230769230769')}\n"
     ]
    }
   ],
   "source": [
    "query = Product.objects.filter(remaining_amount__gte = 100).aggregate(avg = Avg(\"price\"))\n",
    "print(query)"
   ]
  },
  {
   "cell_type": "markdown",
   "id": "b7f36676",
   "metadata": {},
   "source": [
    "2.2 ให้นักศึกษาหาราคาของสินค้า (`Product.price`) ที่มากที่สุด และ ราคาของสินค้าที่น้อยที่สุด ของสินค้าที่หมด (`Product.remaining_amount`) \n",
    "\n",
    "ตัวอย่าง Output \n",
    "\n",
    "``` PYTHON\n",
    "Max Price: 990.00\n",
    "Min Price: 129.00\n",
    "```"
   ]
  },
  {
   "cell_type": "code",
   "execution_count": 17,
   "id": "2fb24b7a",
   "metadata": {},
   "outputs": [
    {
     "name": "stdout",
     "output_type": "stream",
     "text": [
      "{'max_price': Decimal('990.00')}\n"
     ]
    }
   ],
   "source": [
    "query = Product.objects.filter(remaining_amount = 0).aggregate(max_price = Max(\"price\"))\n",
    "print(query)"
   ]
  },
  {
   "cell_type": "code",
   "execution_count": 19,
   "id": "b4b8b6b6",
   "metadata": {},
   "outputs": [
    {
     "name": "stdout",
     "output_type": "stream",
     "text": [
      "{'min_price': Decimal('129.00')}\n"
     ]
    }
   ],
   "source": [
    "query = Product.objects.filter(remaining_amount = 0).aggregate(min_price = Min(\"price\"))\n",
    "print(query)"
   ]
  },
  {
   "cell_type": "markdown",
   "id": "12c6384e",
   "metadata": {},
   "source": [
    "2.3 จงหาผลรวมราคา (`CartItem.product.price`) ที่อยู่ในตระกร้าสินค้าของวันที่ 1 (ดูจาก `Cart.create_date`)\n",
    "\n",
    "**หมายเหตุ: ผลรวมราคา คือ  sum ของ `CartItem.product.price` * `CartItem.amount`**\n",
    "\n",
    "ตัวอย่าง Output \n",
    "\n",
    "``` PYTHON\n",
    "Sum Price: 830237.00\n",
    "```"
   ]
  },
  {
   "cell_type": "code",
   "execution_count": 25,
   "id": "80122c25",
   "metadata": {},
   "outputs": [
    {
     "name": "stdout",
     "output_type": "stream",
     "text": [
      "Sum Price: 825437.00\n"
     ]
    }
   ],
   "source": [
    "query = CartItem.objects.filter(cart__create_date__day = 1).aggregate(sum_ = Sum(F(\"product__price\")*F(\"amount\")))\n",
    "#query = CartItem.objects.filter(cart__create_date__day = 1).annotate(pro_price = F(\"product__price\")*F(\"amount\")).aggregate(sum_ = Sum(\"pro_price\"))\n",
    "print(f\"Sum Price: {query['sum_']}\")"
   ]
  },
  {
   "cell_type": "markdown",
   "id": "33120703",
   "metadata": {},
   "source": [
    "2.4 นับจำนวนสินค้าที่อยู่ประเภท Clothing and Apparel, Furniture และ ราคาของสินค้าอยู่ในช่วง 1,000.00 - 10,000.00\n",
    "\n",
    "ตัวอย่าง Output \n",
    "\n",
    "``` PYTHON\n",
    "PRODUCT CATEGORY NAME: Clothing and Apparel PRODUCT COUNT: 1\n",
    "PRODUCT CATEGORY NAME: Furniture PRODUCT COUNT: 5\n",
    "```"
   ]
  },
  {
   "cell_type": "code",
   "execution_count": 29,
   "id": "4f606cb4",
   "metadata": {},
   "outputs": [
    {
     "name": "stdout",
     "output_type": "stream",
     "text": [
      "PRODUCT CATEGORY NAME: Electronics PRODUCT COUNT: 10\n",
      "PRODUCT CATEGORY NAME: Fashion PRODUCT COUNT: 1\n"
     ]
    }
   ],
   "source": [
    "query = ProductCategory.objects.filter(Q(name = \"Fashion\")|Q(name = \"Electronics\"),product__price__range = (1000,10000)).annotate(count = Count(\"product__name\"))\n",
    "for i in query:\n",
    "    print(f\"PRODUCT CATEGORY NAME: {i.name} PRODUCT COUNT: {i.count}\")"
   ]
  },
  {
   "cell_type": "markdown",
   "id": "95a5e6ce",
   "metadata": {},
   "source": [
    "### 3. many-to-many\n",
    "3.1 ให้ค้นหาข้อมูลสินค้า (Product) ที่อยู่ในประเภทสินค้า \"Information Technology\" 10 รายการแรก (เรียงลำดับด้วย `Product.id`) และแสดงชื่อประเภทสินค้า (ProductCategory)\n",
    "\n",
    "ตัวอย่าง Output บางส่วน\n",
    "\n",
    "``` PYTHON\n",
    "Product ID: 1, Product Name: Smartphone, Categories Name: Information Technology, Electronics, Price: 5900.00\n",
    "Product ID: 2, Product Name: Laptop, Categories Name: Information Technology, Electronics, Price: 25999.00\n",
    "Product ID: 3, Product Name: Smart TV, Categories Name: Information Technology, Electronics, Price: 8900.00\n",
    "Product ID: 4, Product Name: Bluetooth Earphones, Categories Name: Information Technology, Electronics, Price: 350.00\n",
    "Product ID: 5, Product Name: Tablet, Categories Name: Information Technology, Electronics, Price: 12900.00\n",
    "```"
   ]
  },
  {
   "cell_type": "code",
   "execution_count": 42,
   "id": "2060dd08",
   "metadata": {},
   "outputs": [
    {
     "name": "stdout",
     "output_type": "stream",
     "text": [
      "Product ID: 51, Product Name: Dog Bed, Categories Name: Pet Supplies, Price: 2190.00\n",
      "Product ID: 52, Product Name: Cat Tree Tower, Categories Name: Pet Supplies, Price: 4000.00\n",
      "Product ID: 53, Product Name: Pet Food Bowl Set, Categories Name: Pet Supplies, Price: 90.00\n",
      "Product ID: 54, Product Name: Automatic Pet Feeder, Categories Name: Pet Supplies, Price: 7900.00\n",
      "Product ID: 55, Product Name: Dog Leash and Harness Set, Categories Name: Pet Supplies, Price: 300.00\n",
      "Product ID: 56, Product Name: Cat Litter Box, Categories Name: Pet Supplies, Price: 1900.00\n",
      "Product ID: 57, Product Name: Pet Grooming Kit, Categories Name: Pet Supplies, Price: 3000.00\n",
      "Product ID: 58, Product Name: Fish Tank Starter Kit, Categories Name: Pet Supplies, Price: 990.00\n",
      "Product ID: 59, Product Name: Bird Cage, Categories Name: Pet Supplies, Price: 700.00\n",
      "Product ID: 60, Product Name: Small Animal Playpen, Categories Name: Pet Supplies, Price: 350.00\n",
      "Product ID: 61, Product Name: Diamond Stud Earrings, Categories Name: Jewelry, Price: 320000.00\n",
      "Product ID: 62, Product Name: Silver Charm Bracelet, Categories Name: Jewelry, Price: 70000.00\n",
      "Product ID: 63, Product Name: Gold Pendant Necklace, Categories Name: Jewelry, Price: 59000.00\n",
      "Product ID: 64, Product Name: Gemstone Ring, Categories Name: Jewelry, Price: 9000.00\n",
      "Product ID: 65, Product Name: Rose Gold Hoop Earrings, Categories Name: Jewelry, Price: 1200000.00\n",
      "Product ID: 66, Product Name: Salvage the Bones, Categories Name: , Price: 129.00\n",
      "Product ID: 67, Product Name: Porn, Categories Name: , Price: 69.00\n",
      "Product ID: 70, Product Name: Physical Programming, Categories Name: Books and Media, Price: 990.00\n",
      "Product ID: 71, Product Name: Macbook Pro, Categories Name: Information Technology, Electronics, Price: 52465.00\n",
      "Product ID: 69, Product Name: Introduction to Computer System, Categories Name: , Price: 990.00\n"
     ]
    }
   ],
   "source": [
    "query = Product.objects.all()[40:69]\n",
    "for i in query:\n",
    "    cat = i.categories.all().values_list(\"name\",flat=True)\n",
    "    cat = list(cat)\n",
    "    cat = \", \".join(cat)\n",
    "    print(f\"Product ID: {i.id}, Product Name: {i.name}, Categories Name: {cat}, Price: {i.price}\")"
   ]
  },
  {
   "cell_type": "markdown",
   "id": "77af1f85",
   "metadata": {},
   "source": [
    "3.2 ให้ทำตามขั้นตอนดังนี้ \n",
    "\n",
    "    1. เปลี่ยนชื่อประเภทสินค้า `Home Appliances` เป็น `Home Decor` \n",
    "    2. เปลี่ยนประเภทสินค้า `Furniture` ให้เป็น `Home Decor` แทน\n",
    "    3. ค้นหาว่าสินค้าที่มีประเภทสินค้าเป็น `Home Decor` ทั้งหมดมีจำนวนเท่าไหร่"
   ]
  },
  {
   "cell_type": "code",
   "execution_count": 4,
   "id": "89e19572",
   "metadata": {},
   "outputs": [],
   "source": []
  },
  {
   "cell_type": "code",
   "execution_count": 5,
   "id": "b41bd1eb",
   "metadata": {},
   "outputs": [],
   "source": []
  },
  {
   "cell_type": "code",
   "execution_count": null,
   "id": "86471274",
   "metadata": {},
   "outputs": [],
   "source": []
  }
 ],
 "metadata": {
  "kernelspec": {
   "display_name": "Django Shell-Plus",
   "language": "python",
   "name": "django_extensions"
  },
  "language_info": {
   "codemirror_mode": {
    "name": "ipython",
    "version": 3
   },
   "file_extension": ".py",
   "mimetype": "text/x-python",
   "name": "python",
   "nbconvert_exporter": "python",
   "pygments_lexer": "ipython3",
   "version": "3.10.5"
  }
 },
 "nbformat": 4,
 "nbformat_minor": 5
}
