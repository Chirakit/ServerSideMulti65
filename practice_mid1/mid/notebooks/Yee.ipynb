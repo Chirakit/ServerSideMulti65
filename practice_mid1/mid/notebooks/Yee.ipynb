{
 "cells": [
  {
   "cell_type": "code",
   "execution_count": 1,
   "id": "8d7f33b6",
   "metadata": {},
   "outputs": [],
   "source": [
    "import os\n",
    "os.environ['DJANGO_ALLOW_ASYNC_UNSAFE'] = \"true\"\n",
    "\n",
    "# import modules\n",
    "from shop.models import *"
   ]
  },
  {
   "cell_type": "markdown",
   "id": "32948d01",
   "metadata": {},
   "source": [
    "1. Query\n",
    "การเรียกข้อมูลจาก Database\n",
    "Filter Vs get"
   ]
  },
  {
   "cell_type": "code",
   "execution_count": 12,
   "id": "8d58cbf0",
   "metadata": {
    "scrolled": true
   },
   "outputs": [
    {
     "name": "stdout",
     "output_type": "stream",
     "text": [
      "Product ID: 5\n"
     ]
    }
   ],
   "source": [
    "product = Product.objects.get(id = 5)\n",
    "print(f\"Product ID: {product.id}\")"
   ]
  },
  {
   "cell_type": "markdown",
   "id": "dde58dec",
   "metadata": {},
   "source": [
    "2. Field & Attribute Calling\n"
   ]
  },
  {
   "cell_type": "code",
   "execution_count": 36,
   "id": "f61dccc5",
   "metadata": {
    "scrolled": false
   },
   "outputs": [
    {
     "data": {
      "text/plain": [
       "<QuerySet [{'name': 'Smartphone', 'description': 'A sleek and powerful smartphone with advanced features.'}, {'name': 'Laptop', 'description': 'A lightweight and high-performance laptop for professionals.'}, {'name': 'Smart TV', 'description': 'An ultra-HD smart television with streaming capabilities.'}, {'name': 'Bluetooth Earphones', 'description': 'Wireless earphones with noise-canceling technology.'}, {'name': 'Tablet', 'description': 'A compact tablet for entertainment and productivity.'}, {'name': 'Gaming Console', 'description': 'A powerful gaming console with immersive graphics.'}, {'name': 'Digital Camera', 'description': 'High-resolution digital camera with advanced photography features.'}, {'name': 'Wireless Router', 'description': 'High-speed wireless router for home or office use.'}, {'name': 'Portable Power Bank', 'description': 'Compact and portable power bank for charging devices on the go.'}, {'name': 'Smartwatch', 'description': 'A stylish smartwatch with health monitoring and notification features.'}, {'name': 'Refrigerator', 'description': 'Energy-efficient refrigerator with ample storage space.'}, {'name': 'Washing Machine', 'description': 'Front-loading washing machine with multiple wash programs.'}, {'name': 'Microwave Oven', 'description': 'Compact microwave oven with defrost and cooking functions.'}, {'name': 'Air Conditioner', 'description': 'Split air conditioner with remote control and energy-saving features.'}, {'name': 'Vacuum Cleaner', 'description': 'Powerful vacuum cleaner for efficient cleaning.'}, {'name': 'Electric Kettle', 'description': 'Fast-boiling electric kettle with auto shut-off feature.'}, {'name': 'Toaster', 'description': 'Four-slice toaster with adjustable browning settings.'}, {'name': 'Electric Fan', 'description': 'Oscillating electric fan for cooling rooms.'}, {'name': 'Rice Cooker', 'description': 'Automatic rice cooker with keep-warm function.'}, {'name': 'Electric Iron', 'description': 'Steam iron with non-stick soleplate for wrinkle-free clothes.'}, '...(remaining elements truncated)...']>"
      ]
     },
     "execution_count": 36,
     "metadata": {},
     "output_type": "execute_result"
    }
   ],
   "source": [
    "for i in Product.objects.all().values(\"name\", \"description\")"
   ]
  },
  {
   "cell_type": "markdown",
   "id": "9f90e5a5",
   "metadata": {},
   "source": [
    "3. Join operation & relation"
   ]
  },
  {
   "cell_type": "code",
   "execution_count": 73,
   "id": "51f5f5d6",
   "metadata": {
    "scrolled": false
   },
   "outputs": [
    {
     "data": {
      "text/plain": [
       "<QuerySet [{'name': 'Smartphone'}, {'name': 'Laptop'}, {'name': 'Smart TV'}, {'name': 'Bluetooth Earphones'}, {'name': 'Tablet'}, {'name': 'Gaming Console'}, {'name': 'Digital Camera'}, {'name': 'Wireless Router'}, {'name': 'Portable Power Bank'}, {'name': 'Smartwatch'}]>"
      ]
     },
     "execution_count": 73,
     "metadata": {},
     "output_type": "execute_result"
    }
   ],
   "source": [
    "from django import *\n",
    "query = ProductCategory.objects.get(name = 'Information Technology')\n",
    "query.product_set.values('name')"
   ]
  },
  {
   "cell_type": "markdown",
   "id": "1d12ac7f",
   "metadata": {},
   "source": [
    "4. Create new item"
   ]
  },
  {
   "cell_type": "code",
   "execution_count": 76,
   "id": "e766860e",
   "metadata": {},
   "outputs": [],
   "source": [
    "#new = ProductCategory.objects.create(name = 'adult')\n",
    "new = ProductCategory(name='Minors')\n",
    "new.save()"
   ]
  },
  {
   "cell_type": "code",
   "execution_count": 77,
   "id": "5088b617",
   "metadata": {},
   "outputs": [],
   "source": [
    "edit = ProductCategory.objects.get(name = 'adult')\n",
    "edit.name = \"Adult\"\n",
    "edit.save()"
   ]
  },
  {
   "cell_type": "code",
   "execution_count": 86,
   "id": "a9aadacc",
   "metadata": {},
   "outputs": [],
   "source": [
    "from datetime import *\n",
    "category =  ProductCategory.objects.get(name = \"Adult\")\n",
    "product = Product(name = \"Porn\", description = \"silk-098 and more\", remaining_amount = 100, price=69)\n",
    "product.save()\n",
    "product.categories.add(category, ProductCategory.objects.get(name=\"Minors\"))\n",
    "product.save()"
   ]
  },
  {
   "cell_type": "code",
   "execution_count": 88,
   "id": "96474d29",
   "metadata": {},
   "outputs": [],
   "source": [
    "category = ProductCategory.objects.get(name = \"Minors\")\n",
    "product.categories.remove(category)"
   ]
  },
  {
   "cell_type": "code",
   "execution_count": 89,
   "id": "5f0bbd15",
   "metadata": {},
   "outputs": [
    {
     "data": {
      "text/plain": [
       "(1, {'shop.ProductCategory': 1})"
      ]
     },
     "execution_count": 89,
     "metadata": {},
     "output_type": "execute_result"
    }
   ],
   "source": [
    "category.delete()"
   ]
  },
  {
   "cell_type": "code",
   "execution_count": 91,
   "id": "426d84cb",
   "metadata": {},
   "outputs": [
    {
     "data": {
      "text/plain": [
       "(2, {'shop.Product_categories': 1, 'shop.ProductCategory': 1})"
      ]
     },
     "execution_count": 91,
     "metadata": {},
     "output_type": "execute_result"
    }
   ],
   "source": [
    "ProductCategory.objects.get(name = \"Books and Media\").delete()"
   ]
  },
  {
   "cell_type": "code",
   "execution_count": 93,
   "id": "02e8e6e0",
   "metadata": {},
   "outputs": [
    {
     "data": {
      "text/plain": [
       "<QuerySet []>"
      ]
     },
     "execution_count": 93,
     "metadata": {},
     "output_type": "execute_result"
    }
   ],
   "source": [
    "query = Product.objects.get(name=\"Salvage the Bones\")\n",
    "query.categories.all()"
   ]
  },
  {
   "cell_type": "code",
   "execution_count": 31,
   "id": "650362e7",
   "metadata": {},
   "outputs": [
    {
     "name": "stdout",
     "output_type": "stream",
     "text": [
      "[\n",
      "  {\n",
      "    \"name\": \"Smartphone\",\n",
      "    \"remaining_amount\": 24\n",
      "  },\n",
      "  {\n",
      "    \"name\": \"Laptop\",\n",
      "    \"remaining_amount\": 19\n",
      "  },\n",
      "  {\n",
      "    \"name\": \"Smart TV\",\n",
      "    \"remaining_amount\": 10\n",
      "  },\n",
      "  {\n",
      "    \"name\": \"Bluetooth Earphones\",\n",
      "    \"remaining_amount\": 49\n",
      "  },\n",
      "  {\n",
      "    \"name\": \"Tablet\",\n",
      "    \"remaining_amount\": 22\n",
      "  },\n",
      "  {\n",
      "    \"name\": \"Gaming Console\",\n",
      "    \"remaining_amount\": 10\n",
      "  },\n",
      "  {\n",
      "    \"name\": \"Digital Camera\",\n",
      "    \"remaining_amount\": 4\n",
      "  },\n",
      "  {\n",
      "    \"name\": \"Wireless Router\",\n",
      "    \"remaining_amount\": 0\n",
      "  },\n",
      "  {\n",
      "    \"name\": \"Portable Power Bank\",\n",
      "    \"remaining_amount\": 87\n",
      "  },\n",
      "  {\n",
      "    \"name\": \"Smartwatch\",\n",
      "    \"remaining_amount\": 20\n",
      "  },\n",
      "  {\n",
      "    \"name\": \"Refrigerator\",\n",
      "    \"remaining_amount\": 38\n",
      "  },\n",
      "  {\n",
      "    \"name\": \"Washing Machine\",\n",
      "    \"remaining_amount\": 15\n",
      "  },\n",
      "  {\n",
      "    \"name\": \"Microwave Oven\",\n",
      "    \"remaining_amount\": 73\n",
      "  },\n",
      "  {\n",
      "    \"name\": \"Air Conditioner\",\n",
      "    \"remaining_amount\": 30\n",
      "  },\n",
      "  {\n",
      "    \"name\": \"Vacuum Cleaner\",\n",
      "    \"remaining_amount\": 18\n",
      "  },\n",
      "  {\n",
      "    \"name\": \"Electric Kettle\",\n",
      "    \"remaining_amount\": 25\n",
      "  },\n",
      "  {\n",
      "    \"name\": \"Toaster\",\n",
      "    \"remaining_amount\": 30\n",
      "  },\n",
      "  {\n",
      "    \"name\": \"Electric Fan\",\n",
      "    \"remaining_amount\": 55\n",
      "  },\n",
      "  {\n",
      "    \"name\": \"Rice Cooker\",\n",
      "    \"remaining_amount\": 49\n",
      "  },\n",
      "  {\n",
      "    \"name\": \"Electric Iron\",\n",
      "    \"remaining_amount\": 180\n",
      "  },\n",
      "  {\n",
      "    \"name\": \"Men's T-Shirt\",\n",
      "    \"remaining_amount\": 220\n",
      "  },\n",
      "  {\n",
      "    \"name\": \"Women's Jeans\",\n",
      "    \"remaining_amount\": 82\n",
      "  },\n",
      "  {\n",
      "    \"name\": \"Unisex Hoodie\",\n",
      "    \"remaining_amount\": 91\n",
      "  },\n",
      "  {\n",
      "    \"name\": \"Women's Dress\",\n",
      "    \"remaining_amount\": 27\n",
      "  },\n",
      "  {\n",
      "    \"name\": \"Men's Formal Shirt\",\n",
      "    \"remaining_amount\": 428\n",
      "  },\n",
      "  {\n",
      "    \"name\": \"Women's Athletic Shorts\",\n",
      "    \"remaining_amount\": 282\n",
      "  },\n",
      "  {\n",
      "    \"name\": \"Men's Polo Shirt\",\n",
      "    \"remaining_amount\": 138\n",
      "  },\n",
      "  {\n",
      "    \"name\": \"Women's Sweater\",\n",
      "    \"remaining_amount\": 5\n",
      "  },\n",
      "  {\n",
      "    \"name\": \"Unisex Cap\",\n",
      "    \"remaining_amount\": 64\n",
      "  },\n",
      "  {\n",
      "    \"name\": \"Men's Shorts\",\n",
      "    \"remaining_amount\": 40\n",
      "  },\n",
      "  {\n",
      "    \"name\": \"Sofa\",\n",
      "    \"remaining_amount\": 29\n",
      "  },\n",
      "  {\n",
      "    \"name\": \"Dining Table\",\n",
      "    \"remaining_amount\": 72\n",
      "  },\n",
      "  {\n",
      "    \"name\": \"Bed Frame\",\n",
      "    \"remaining_amount\": 5\n",
      "  },\n",
      "  {\n",
      "    \"name\": \"Wardrobe\",\n",
      "    \"remaining_amount\": 7\n",
      "  },\n",
      "  {\n",
      "    \"name\": \"Coffee Table\",\n",
      "    \"remaining_amount\": 102\n",
      "  },\n",
      "  {\n",
      "    \"name\": \"Bookshelf\",\n",
      "    \"remaining_amount\": 60\n",
      "  },\n",
      "  {\n",
      "    \"name\": \"Desk Chair\",\n",
      "    \"remaining_amount\": 20\n",
      "  },\n",
      "  {\n",
      "    \"name\": \"TV Stand\",\n",
      "    \"remaining_amount\": 31\n",
      "  },\n",
      "  {\n",
      "    \"name\": \"Nightstand\",\n",
      "    \"remaining_amount\": 15\n",
      "  },\n",
      "  {\n",
      "    \"name\": \"Bar Stool\",\n",
      "    \"remaining_amount\": 25\n",
      "  },\n",
      "  {\n",
      "    \"name\": \"LEGO Classic Large Creative Brick Box\",\n",
      "    \"remaining_amount\": 124\n",
      "  },\n",
      "  {\n",
      "    \"name\": \"Nerf N-Strike Elite Strongarm Blaster\",\n",
      "    \"remaining_amount\": 15\n",
      "  },\n",
      "  {\n",
      "    \"name\": \"Barbie Dreamhouse\",\n",
      "    \"remaining_amount\": 212\n",
      "  },\n",
      "  {\n",
      "    \"name\": \"Monopoly Classic Board Game\",\n",
      "    \"remaining_amount\": 90\n",
      "  },\n",
      "  {\n",
      "    \"name\": \"Hot Wheels Track Builder System Race Crate\",\n",
      "    \"remaining_amount\": 20\n",
      "  },\n",
      "  {\n",
      "    \"name\": \"Fisher-Price Laugh & Learn Smart Stages Chair\",\n",
      "    \"remaining_amount\": 15\n",
      "  },\n",
      "  {\n",
      "    \"name\": \"Jenga Classic Game\",\n",
      "    \"remaining_amount\": 30\n",
      "  },\n",
      "  {\n",
      "    \"name\": \"Play-Doh Fun Factory Deluxe Set\",\n",
      "    \"remaining_amount\": 25\n",
      "  },\n",
      "  {\n",
      "    \"name\": \"Baby Einstein Take Along Tunes Musical Toy\",\n",
      "    \"remaining_amount\": 200\n",
      "  },\n",
      "  {\n",
      "    \"name\": \"Paw Patrol Ultimate Rescue Fire Truck\",\n",
      "    \"remaining_amount\": 10\n",
      "  },\n",
      "  {\n",
      "    \"name\": \"Dog Bed\",\n",
      "    \"remaining_amount\": 105\n",
      "  },\n",
      "  {\n",
      "    \"name\": \"Cat Tree Tower\",\n",
      "    \"remaining_amount\": 19\n",
      "  },\n",
      "  {\n",
      "    \"name\": \"Pet Food Bowl Set\",\n",
      "    \"remaining_amount\": 321\n",
      "  },\n",
      "  {\n",
      "    \"name\": \"Automatic Pet Feeder\",\n",
      "    \"remaining_amount\": 12\n",
      "  },\n",
      "  {\n",
      "    \"name\": \"Dog Leash and Harness Set\",\n",
      "    \"remaining_amount\": 18\n",
      "  },\n",
      "  {\n",
      "    \"name\": \"Cat Litter Box\",\n",
      "    \"remaining_amount\": 15\n",
      "  },\n",
      "  {\n",
      "    \"name\": \"Pet Grooming Kit\",\n",
      "    \"remaining_amount\": 25\n",
      "  },\n",
      "  {\n",
      "    \"name\": \"Fish Tank Starter Kit\",\n",
      "    \"remaining_amount\": 32\n",
      "  },\n",
      "  {\n",
      "    \"name\": \"Bird Cage\",\n",
      "    \"remaining_amount\": 0\n",
      "  },\n",
      "  {\n",
      "    \"name\": \"Small Animal Playpen\",\n",
      "    \"remaining_amount\": 15\n",
      "  },\n",
      "  {\n",
      "    \"name\": \"Diamond Stud Earrings\",\n",
      "    \"remaining_amount\": 10\n",
      "  },\n",
      "  {\n",
      "    \"name\": \"Silver Charm Bracelet\",\n",
      "    \"remaining_amount\": 15\n",
      "  },\n",
      "  {\n",
      "    \"name\": \"Gold Pendant Necklace\",\n",
      "    \"remaining_amount\": 12\n",
      "  },\n",
      "  {\n",
      "    \"name\": \"Gemstone Ring\",\n",
      "    \"remaining_amount\": 20\n",
      "  },\n",
      "  {\n",
      "    \"name\": \"Rose Gold Hoop Earrings\",\n",
      "    \"remaining_amount\": 2\n",
      "  },\n",
      "  {\n",
      "    \"name\": \"Salvage the Bones\",\n",
      "    \"remaining_amount\": 0\n",
      "  },\n",
      "  {\n",
      "    \"name\": \"Porn\",\n",
      "    \"remaining_amount\": 100\n",
      "  }\n",
      "]\n"
     ]
    }
   ],
   "source": [
    "import json\n",
    "query = Product.objects.all().values(\"name\", \"remaining_amount\")\n",
    "query = list(query)\n",
    "print(json.dumps(query, indent=2, sort_keys=False))"
   ]
  },
  {
   "cell_type": "code",
   "execution_count": null,
   "id": "3abc8b6e",
   "metadata": {},
   "outputs": [],
   "source": []
  }
 ],
 "metadata": {
  "kernelspec": {
   "display_name": "Django Shell-Plus",
   "language": "python",
   "name": "django_extensions"
  },
  "language_info": {
   "codemirror_mode": {
    "name": "ipython",
    "version": 3
   },
   "file_extension": ".py",
   "mimetype": "text/x-python",
   "name": "python",
   "nbconvert_exporter": "python",
   "pygments_lexer": "ipython3",
   "version": "3.11.3"
  }
 },
 "nbformat": 4,
 "nbformat_minor": 5
}
