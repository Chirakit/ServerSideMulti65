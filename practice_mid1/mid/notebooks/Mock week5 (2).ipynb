{
 "cells": [
  {
   "cell_type": "markdown",
   "id": "cd7d24df",
   "metadata": {},
   "source": [
    "# **หมายเหตุ: รบกวนรี database ถ้าอยากได้ข้อมูลตรง**"
   ]
  },
  {
   "cell_type": "code",
   "execution_count": 2,
   "id": "6a5941a4",
   "metadata": {},
   "outputs": [],
   "source": [
    "import os\n",
    "os.environ['DJANGO_ALLOW_ASYNC_UNSAFE'] = \"true\"\n",
    "\n",
    "# import modules\n",
    "from shop.models import *"
   ]
  },
  {
   "cell_type": "markdown",
   "id": "6dd0e302",
   "metadata": {},
   "source": [
    "### 1. annotate()\n",
    "1.1 ให้ค้นหาข้อมูล `Product` โดยให้เพิ่ม field ราคารวมทั้งหมดของสินค้า โดยกำหนดให้ชื่อ field ว่า \"total_price\" โดยใช้แสดงข้อมูล 5 ตัวแรกเรียงตาม \"total_price\" จากมากไปน้อย\n",
    "\n",
    "**หมายเหตุ: จะต้องใช้ annotate() ให้เอา `Product.price` * `Product.remaining_amount`**\n",
    "\n",
    "ตัวอย่าง Output\n",
    "\n",
    "```\n",
    "ID: 61, PRICE: 320000.00, AMOUNT: 10, TOTAL PRICE: 3200000.00\n",
    "ID: 65, PRICE: 1200000.00, AMOUNT: 2, TOTAL PRICE: 2400000.00\n",
    "ID: 62, PRICE: 70000.00, AMOUNT: 15, TOTAL PRICE: 1050000.00\n",
    "ID: 63, PRICE: 59000.00, AMOUNT: 12, TOTAL PRICE: 708000.00\n",
    "ID: 14, PRICE: 18900.00, AMOUNT: 30, TOTAL PRICE: 567000.00\n",
    "```"
   ]
  },
  {
   "cell_type": "code",
   "execution_count": 9,
   "id": "2c5711fa",
   "metadata": {},
   "outputs": [
    {
     "name": "stdout",
     "output_type": "stream",
     "text": [
      "ID: 68, PRICE: 52465.00, AMOUNT: 100, TOTAL PRICE: 5246500.00\n",
      "ID: 61, PRICE: 320000.00, AMOUNT: 10, TOTAL PRICE: 3200000.00\n",
      "ID: 65, PRICE: 1200000.00, AMOUNT: 2, TOTAL PRICE: 2400000.00\n",
      "ID: 62, PRICE: 70000.00, AMOUNT: 15, TOTAL PRICE: 1050000.00\n",
      "ID: 63, PRICE: 59000.00, AMOUNT: 12, TOTAL PRICE: 708000.00\n"
     ]
    }
   ],
   "source": [
    "query = Product.objects.annotate(total_price = F(\"price\")*F(\"remaining_amount\")).order_by(F(\"total_price\").desc())[:5]\n",
    "for i in query:\n",
    "    print(f\"ID: {i.id}, PRICE: {i.price}, AMOUNT: {i.remaining_amount}, TOTAL PRICE: {i.total_price}\")"
   ]
  },
  {
   "cell_type": "markdown",
   "id": "01aa1576",
   "metadata": {},
   "source": [
    "1.2 ต่อเนื่องจากข้อ 1.1 ให้ filter เฉพาะข้อมูล Product ที่มี \"total_price\" มากกว่า 1,000,000 และ \"remaining_amount\" น้อยกว่า 10 ชิ้น\n",
    "\n",
    "ตัวอย่าง Output\n",
    "\n",
    "```\n",
    "ID: 65, PRICE: 1200000.00, AMOUNT: 2, TOTAL PRICE: 2400000.00\n",
    "```"
   ]
  },
  {
   "cell_type": "code",
   "execution_count": 11,
   "id": "b8890c7f",
   "metadata": {
    "scrolled": true
   },
   "outputs": [
    {
     "name": "stdout",
     "output_type": "stream",
     "text": [
      "ID: 65, PRICE: 1200000.00, AMOUNT: 2, TOTAL PRICE: 2400000.00\n"
     ]
    }
   ],
   "source": [
    "query = Product.objects.annotate(total_price = F(\"price\")*F(\"remaining_amount\")).filter(total_price__gte = 1000000, remaining_amount__lt = 10)\n",
    "for i in query:\n",
    "    print(f\"ID: {i.id}, PRICE: {i.price}, AMOUNT: {i.remaining_amount}, TOTAL PRICE: {i.total_price}\")"
   ]
  },
  {
   "cell_type": "markdown",
   "id": "e9bb1b78",
   "metadata": {},
   "source": [
    "1.3 ให้นักศึกษาเรียงลำดับข้อมูลลูกค้า (`Customer`) แสดงเพียงแค่ field `id`, `email` และ `full_name` โดยเรียงลำดับข้อมูลตาม (`id`) จาก `น้อยไปมาก` โดยแสดง 10 คนแรก \n",
    "\n",
    "**Hint:** Field `full_name` นั้นจะต้องถูก annotate ขึ้นมาโดยการนำ `first_name` มาต่อกับ `last_name` โดยใช้ `Concat(*expressions, **extra)` \n",
    "\n",
    "```python\n",
    ">>> Product.objects.filter(description__icontains=\"advance\").values()\n",
    "<QuerySet [{'id': 1, 'name': 'Smartphone', 'description': 'A sleek and powerful smartphone with advanced features.', 'remaining_amount': 24, 'price': Decimal('5900.00')}, {'id': 7, 'name': 'Digital Camera', 'description': 'High-resolution digital camera with advanced photography features.', 'remaining_amount': 4, 'price': Decimal('32000.00')}]>\n",
    "```\n",
    "\n",
    "**Hint:** แปลง object เป็น dict ใช้ `values()`\n",
    "\n",
    "**Hint:** อยาก print dictionary สวยๆ ใช้ `json.dumps`\n",
    "\n",
    "```python\n",
    "print(json.dumps(dictionary, indent=4, sort_keys=False))\n",
    "```\n",
    "\n",
    "ตัวอย่าง Output \n",
    "\n",
    "```\n",
    "[\n",
    "    {\n",
    "        \"id\": 1,\n",
    "        \"email\": \"panita.hong@gmail.com\",\n",
    "        \"full_name\": \"Panita Hongsakulpan\"\n",
    "    },\n",
    "    {\n",
    "        \"id\": 2,\n",
    "        \"email\": \"pakin.jan@gmail.com\",\n",
    "        \"full_name\": \"Pakin Janpen\"\n",
    "    },\n",
    "    {\n",
    "        \"id\": 3,\n",
    "        \"email\": \"jenjira.su@gmail.com\",\n",
    "        \"full_name\": \"Jenjira Sukanansarn\"\n",
    "    },\n",
    "    {\n",
    "        \"id\": 4,\n",
    "        \"email\": \"dejwit.tt@gmail.com\",\n",
    "        \"full_name\": \"Dejwit Tangjareonsakul\"\n",
    "    },\n",
    "    {\n",
    "        \"id\": 5,\n",
    "        \"email\": \"pong.23@gmail.com\",\n",
    "        \"full_name\": \"Pong Sawadiwong\"\n",
    "    },\n",
    "    {\n",
    "        \"id\": 6,\n",
    "        \"email\": \"thiti.za@gmail.com\",\n",
    "        \"full_name\": \"Thitirat Sukkesorn\"\n",
    "    },\n",
    "    {\n",
    "        \"id\": 7,\n",
    "        \"email\": \"prontipa.za@gmail.com\",\n",
    "        \"full_name\": \"Porntipa Pasakul\"\n",
    "    },\n",
    "    {\n",
    "        \"id\": 8,\n",
    "        \"email\": \"warit.za@gmail.com\",\n",
    "        \"full_name\": \"Warit Pititat\"\n",
    "    },\n",
    "    {\n",
    "        \"id\": 9,\n",
    "        \"email\": \"sira.za@gmail.com\",\n",
    "        \"full_name\": \"Sira Pititat\"\n",
    "    },\n",
    "    {\n",
    "        \"id\": 10,\n",
    "        \"email\": \"wanaporn.over@gmail.com\",\n",
    "        \"full_name\": \"Wanaporn Klabpetch\"\n",
    "    }\n",
    "]\n",
    "```"
   ]
  },
  {
   "cell_type": "code",
   "execution_count": 3,
   "id": "52d944d1",
   "metadata": {},
   "outputs": [
    {
     "ename": "NameError",
     "evalue": "name 'Value' is not defined",
     "output_type": "error",
     "traceback": [
      "\u001b[1;31m---------------------------------------------------------------------------\u001b[0m",
      "\u001b[1;31mNameError\u001b[0m                                 Traceback (most recent call last)",
      "Cell \u001b[1;32mIn[3], line 3\u001b[0m\n\u001b[0;32m      1\u001b[0m \u001b[38;5;28;01mimport\u001b[39;00m \u001b[38;5;21;01mjson\u001b[39;00m\n\u001b[0;32m      2\u001b[0m \u001b[38;5;28;01mfrom\u001b[39;00m \u001b[38;5;21;01mdjango\u001b[39;00m\u001b[38;5;21;01m.\u001b[39;00m\u001b[38;5;21;01mdb\u001b[39;00m\u001b[38;5;21;01m.\u001b[39;00m\u001b[38;5;21;01mmodels\u001b[39;00m\u001b[38;5;21;01m.\u001b[39;00m\u001b[38;5;21;01mfunctions\u001b[39;00m \u001b[38;5;28;01mimport\u001b[39;00m \u001b[38;5;241m*\u001b[39m\n\u001b[1;32m----> 3\u001b[0m query \u001b[38;5;241m=\u001b[39m Customer\u001b[38;5;241m.\u001b[39mobjects\u001b[38;5;241m.\u001b[39mannotate(full_name \u001b[38;5;241m=\u001b[39m Concat(F(\u001b[38;5;124m\"\u001b[39m\u001b[38;5;124mfirst_name\u001b[39m\u001b[38;5;124m\"\u001b[39m), \u001b[43mValue\u001b[49m(\u001b[38;5;124m\"\u001b[39m\u001b[38;5;124m \u001b[39m\u001b[38;5;124m\"\u001b[39m), F(\u001b[38;5;124m\"\u001b[39m\u001b[38;5;124mlast_name\u001b[39m\u001b[38;5;124m\"\u001b[39m)))\u001b[38;5;241m.\u001b[39mvalues(\u001b[38;5;124m'\u001b[39m\u001b[38;5;124mid\u001b[39m\u001b[38;5;124m'\u001b[39m, \u001b[38;5;124m\"\u001b[39m\u001b[38;5;124memail\u001b[39m\u001b[38;5;124m\"\u001b[39m, \u001b[38;5;124m\"\u001b[39m\u001b[38;5;124mfull_name\u001b[39m\u001b[38;5;124m\"\u001b[39m)[:\u001b[38;5;241m10\u001b[39m]\n\u001b[0;32m      5\u001b[0m \u001b[38;5;28mprint\u001b[39m(json\u001b[38;5;241m.\u001b[39mdumps(\u001b[38;5;28mlist\u001b[39m(query), indent\u001b[38;5;241m=\u001b[39m\u001b[38;5;241m2\u001b[39m))\n",
      "\u001b[1;31mNameError\u001b[0m: name 'Value' is not defined"
     ]
    }
   ],
   "source": [
    "import json\n",
    "from django.db.models.functions import *\n",
    "query = Customer.objects.annotate(full_name = Concat(F(\"first_name\"), Value(\" \"), F(\"last_name\"))).values('id', \"email\", \"full_name\")[:10]\n",
    "print(json.dumps(list(query), indent=2))"
   ]
  },
  {
   "cell_type": "markdown",
   "id": "b9951ec5",
   "metadata": {},
   "source": [
    "### 2. aggregation\n",
    "2.1 ให้นักศึกษาหาค่าเฉลี่ยของราคาสินค้า (`Product.price`) ที่มีจำนวนคงเหลือ (`Product.remaining_amount`) ตั้งแต่ 100 ชิ้นขึ้นไป \n",
    "\n",
    "ตัวอย่าง Output \n",
    "\n",
    "``` PYTHON\n",
    "Average Price: 664.4545454545454545\n",
    "```\n"
   ]
  },
  {
   "cell_type": "code",
   "execution_count": null,
   "id": "a429d26c",
   "metadata": {},
   "outputs": [],
   "source": []
  },
  {
   "cell_type": "markdown",
   "id": "b7f36676",
   "metadata": {},
   "source": [
    "2.2 ให้นักศึกษาหาราคาของสินค้า (`Product.price`) ที่มากที่สุด และ ราคาของสินค้าที่น้อยที่สุด ของสินค้าที่หมด (`Product.remaining_amount`) \n",
    "\n",
    "ตัวอย่าง Output \n",
    "\n",
    "``` PYTHON\n",
    "Max Price: 990.00\n",
    "Min Price: 129.00\n",
    "```"
   ]
  },
  {
   "cell_type": "code",
   "execution_count": null,
   "id": "2fb24b7a",
   "metadata": {},
   "outputs": [],
   "source": []
  },
  {
   "cell_type": "markdown",
   "id": "12c6384e",
   "metadata": {},
   "source": [
    "2.3 จงหาผลรวมราคา (`CartItem.product.price`) ที่อยู่ในตระกร้าสินค้าของวันที่ 1 (ดูจาก `Cart.create_date`)\n",
    "\n",
    "**หมายเหตุ: ผลรวมราคา คือ  sum ของ `CartItem.product.price` * `CartItem.amount`**\n",
    "\n",
    "ตัวอย่าง Output \n",
    "\n",
    "``` PYTHON\n",
    "Sum Price: 830237.00\n",
    "```"
   ]
  },
  {
   "cell_type": "code",
   "execution_count": 6,
   "id": "80122c25",
   "metadata": {},
   "outputs": [
    {
     "ename": "SynchronousOnlyOperation",
     "evalue": "You cannot call this from an async context - use a thread or sync_to_async.",
     "output_type": "error",
     "traceback": [
      "\u001b[1;31m---------------------------------------------------------------------------\u001b[0m",
      "\u001b[1;31mSynchronousOnlyOperation\u001b[0m                  Traceback (most recent call last)",
      "Cell \u001b[1;32mIn[6], line 1\u001b[0m\n\u001b[1;32m----> 1\u001b[0m query \u001b[38;5;241m=\u001b[39m \u001b[43mCartItem\u001b[49m\u001b[38;5;241;43m.\u001b[39;49m\u001b[43mobjects\u001b[49m\u001b[38;5;241;43m.\u001b[39;49m\u001b[43mfilter\u001b[49m\u001b[43m(\u001b[49m\u001b[43mcart__create_date__day\u001b[49m\u001b[43m \u001b[49m\u001b[38;5;241;43m=\u001b[39;49m\u001b[43m \u001b[49m\u001b[38;5;241;43m1\u001b[39;49m\u001b[43m)\u001b[49m\u001b[38;5;241;43m.\u001b[39;49m\u001b[43maggregate\u001b[49m\u001b[43m(\u001b[49m\u001b[43msum_\u001b[49m\u001b[43m \u001b[49m\u001b[38;5;241;43m=\u001b[39;49m\u001b[43m \u001b[49m\u001b[43mSum\u001b[49m\u001b[43m(\u001b[49m\u001b[43mF\u001b[49m\u001b[43m(\u001b[49m\u001b[38;5;124;43m\"\u001b[39;49m\u001b[38;5;124;43mproduct__price\u001b[39;49m\u001b[38;5;124;43m\"\u001b[39;49m\u001b[43m)\u001b[49m\u001b[38;5;241;43m*\u001b[39;49m\u001b[43mF\u001b[49m\u001b[43m(\u001b[49m\u001b[38;5;124;43m\"\u001b[39;49m\u001b[38;5;124;43mamount\u001b[39;49m\u001b[38;5;124;43m\"\u001b[39;49m\u001b[43m)\u001b[49m\u001b[43m)\u001b[49m\u001b[43m)\u001b[49m\n\u001b[0;32m      2\u001b[0m \u001b[38;5;28mprint\u001b[39m(\u001b[38;5;124mf\u001b[39m\u001b[38;5;124m\"\u001b[39m\u001b[38;5;124mSum Price:  \u001b[39m\u001b[38;5;132;01m{\u001b[39;00mquery[\u001b[38;5;124m'\u001b[39m\u001b[38;5;124msum_\u001b[39m\u001b[38;5;124m'\u001b[39m]\u001b[38;5;132;01m}\u001b[39;00m\u001b[38;5;124m\"\u001b[39m)\n",
      "File \u001b[1;32m~\\Documents\\Githup\\ServerSideMulti65\\practice_mid1\\myvenv\\lib\\site-packages\\django\\db\\models\\query.py:604\u001b[0m, in \u001b[0;36mQuerySet.aggregate\u001b[1;34m(self, *args, **kwargs)\u001b[0m\n\u001b[0;32m    601\u001b[0m         \u001b[38;5;28;01mraise\u001b[39;00m \u001b[38;5;167;01mTypeError\u001b[39;00m(\u001b[38;5;124m\"\u001b[39m\u001b[38;5;124mComplex aggregates require an alias\u001b[39m\u001b[38;5;124m\"\u001b[39m)\n\u001b[0;32m    602\u001b[0m     kwargs[arg\u001b[38;5;241m.\u001b[39mdefault_alias] \u001b[38;5;241m=\u001b[39m arg\n\u001b[1;32m--> 604\u001b[0m \u001b[38;5;28;01mreturn\u001b[39;00m \u001b[38;5;28;43mself\u001b[39;49m\u001b[38;5;241;43m.\u001b[39;49m\u001b[43mquery\u001b[49m\u001b[38;5;241;43m.\u001b[39;49m\u001b[43mchain\u001b[49m\u001b[43m(\u001b[49m\u001b[43m)\u001b[49m\u001b[38;5;241;43m.\u001b[39;49m\u001b[43mget_aggregation\u001b[49m\u001b[43m(\u001b[49m\u001b[38;5;28;43mself\u001b[39;49m\u001b[38;5;241;43m.\u001b[39;49m\u001b[43mdb\u001b[49m\u001b[43m,\u001b[49m\u001b[43m \u001b[49m\u001b[43mkwargs\u001b[49m\u001b[43m)\u001b[49m\n",
      "File \u001b[1;32m~\\Documents\\Githup\\ServerSideMulti65\\practice_mid1\\myvenv\\lib\\site-packages\\django\\db\\models\\sql\\query.py:616\u001b[0m, in \u001b[0;36mQuery.get_aggregation\u001b[1;34m(self, using, aggregate_exprs)\u001b[0m\n\u001b[0;32m    614\u001b[0m outer_query\u001b[38;5;241m.\u001b[39mselect_related \u001b[38;5;241m=\u001b[39m \u001b[38;5;28;01mFalse\u001b[39;00m\n\u001b[0;32m    615\u001b[0m compiler \u001b[38;5;241m=\u001b[39m outer_query\u001b[38;5;241m.\u001b[39mget_compiler(using, elide_empty\u001b[38;5;241m=\u001b[39melide_empty)\n\u001b[1;32m--> 616\u001b[0m result \u001b[38;5;241m=\u001b[39m \u001b[43mcompiler\u001b[49m\u001b[38;5;241;43m.\u001b[39;49m\u001b[43mexecute_sql\u001b[49m\u001b[43m(\u001b[49m\u001b[43mSINGLE\u001b[49m\u001b[43m)\u001b[49m\n\u001b[0;32m    617\u001b[0m \u001b[38;5;28;01mif\u001b[39;00m result \u001b[38;5;129;01mis\u001b[39;00m \u001b[38;5;28;01mNone\u001b[39;00m:\n\u001b[0;32m    618\u001b[0m     result \u001b[38;5;241m=\u001b[39m empty_set_result\n",
      "File \u001b[1;32m~\\Documents\\Githup\\ServerSideMulti65\\practice_mid1\\myvenv\\lib\\site-packages\\django\\db\\models\\sql\\compiler.py:1572\u001b[0m, in \u001b[0;36mSQLCompiler.execute_sql\u001b[1;34m(self, result_type, chunked_fetch, chunk_size)\u001b[0m\n\u001b[0;32m   1570\u001b[0m     cursor \u001b[38;5;241m=\u001b[39m \u001b[38;5;28mself\u001b[39m\u001b[38;5;241m.\u001b[39mconnection\u001b[38;5;241m.\u001b[39mchunked_cursor()\n\u001b[0;32m   1571\u001b[0m \u001b[38;5;28;01melse\u001b[39;00m:\n\u001b[1;32m-> 1572\u001b[0m     cursor \u001b[38;5;241m=\u001b[39m \u001b[38;5;28;43mself\u001b[39;49m\u001b[38;5;241;43m.\u001b[39;49m\u001b[43mconnection\u001b[49m\u001b[38;5;241;43m.\u001b[39;49m\u001b[43mcursor\u001b[49m\u001b[43m(\u001b[49m\u001b[43m)\u001b[49m\n\u001b[0;32m   1573\u001b[0m \u001b[38;5;28;01mtry\u001b[39;00m:\n\u001b[0;32m   1574\u001b[0m     cursor\u001b[38;5;241m.\u001b[39mexecute(sql, params)\n",
      "File \u001b[1;32m~\\Documents\\Githup\\ServerSideMulti65\\practice_mid1\\myvenv\\lib\\site-packages\\django\\utils\\asyncio.py:24\u001b[0m, in \u001b[0;36masync_unsafe.<locals>.decorator.<locals>.inner\u001b[1;34m(*args, **kwargs)\u001b[0m\n\u001b[0;32m     22\u001b[0m \u001b[38;5;28;01melse\u001b[39;00m:\n\u001b[0;32m     23\u001b[0m     \u001b[38;5;28;01mif\u001b[39;00m \u001b[38;5;129;01mnot\u001b[39;00m os\u001b[38;5;241m.\u001b[39menviron\u001b[38;5;241m.\u001b[39mget(\u001b[38;5;124m\"\u001b[39m\u001b[38;5;124mDJANGO_ALLOW_ASYNC_UNSAFE\u001b[39m\u001b[38;5;124m\"\u001b[39m):\n\u001b[1;32m---> 24\u001b[0m         \u001b[38;5;28;01mraise\u001b[39;00m SynchronousOnlyOperation(message)\n\u001b[0;32m     25\u001b[0m \u001b[38;5;66;03m# Pass onward.\u001b[39;00m\n\u001b[0;32m     26\u001b[0m \u001b[38;5;28;01mreturn\u001b[39;00m func(\u001b[38;5;241m*\u001b[39margs, \u001b[38;5;241m*\u001b[39m\u001b[38;5;241m*\u001b[39mkwargs)\n",
      "\u001b[1;31mSynchronousOnlyOperation\u001b[0m: You cannot call this from an async context - use a thread or sync_to_async."
     ]
    }
   ],
   "source": [
    "query = CartItem.objects.filter(cart__create_date__day = 1).aggregate(sum_ = Sum(F(\"product__price\")*F(\"amount\")))\n",
    "print(f\"Sum Price:  {query['sum_']}\")"
   ]
  },
  {
   "cell_type": "markdown",
   "id": "33120703",
   "metadata": {},
   "source": [
    "2.4 นับจำนวนสินค้าที่อยู่ประเภท Clothing and Apparel, Furniture และ ราคาของสินค้าอยู่ในช่วง 1,000.00 - 10,000.00\n",
    "\n",
    "ตัวอย่าง Output \n",
    "\n",
    "``` PYTHON\n",
    "PRODUCT CATEGORY NAME: Clothing and Apparel PRODUCT COUNT: 1\n",
    "PRODUCT CATEGORY NAME: Furniture PRODUCT COUNT: 5\n",
    "```"
   ]
  },
  {
   "cell_type": "code",
   "execution_count": null,
   "id": "4f606cb4",
   "metadata": {},
   "outputs": [],
   "source": []
  },
  {
   "cell_type": "markdown",
   "id": "95a5e6ce",
   "metadata": {},
   "source": [
    "### 3. many-to-many\n",
    "3.1 ให้ค้นหาข้อมูลสินค้า (Product) ที่อยู่ในประเภทสินค้า \"Information Technology\" 10 รายการแรก (เรียงลำดับด้วย `Product.id`) และแสดงชื่อประเภทสินค้า (ProductCategory)\n",
    "\n",
    "ตัวอย่าง Output บางส่วน\n",
    "\n",
    "``` PYTHON\n",
    "Product ID: 1, Product Name: Smartphone, Categories Name: Information Technology, Electronics, Price: 5900.00\n",
    "Product ID: 2, Product Name: Laptop, Categories Name: Information Technology, Electronics, Price: 25999.00\n",
    "Product ID: 3, Product Name: Smart TV, Categories Name: Information Technology, Electronics, Price: 8900.00\n",
    "Product ID: 4, Product Name: Bluetooth Earphones, Categories Name: Information Technology, Electronics, Price: 350.00\n",
    "Product ID: 5, Product Name: Tablet, Categories Name: Information Technology, Electronics, Price: 12900.00\n",
    "```"
   ]
  },
  {
   "cell_type": "code",
   "execution_count": null,
   "id": "2060dd08",
   "metadata": {},
   "outputs": [],
   "source": []
  },
  {
   "cell_type": "markdown",
   "id": "77af1f85",
   "metadata": {},
   "source": [
    "3.2 ให้ทำตามขั้นตอนดังนี้ \n",
    "\n",
    "    1. เปลี่ยนชื่อประเภทสินค้า `Home Appliances` เป็น `Home Decor` \n",
    "    2. เปลี่ยนประเภทสินค้า `Furniture` ให้เป็น `Home Decor` แทน\n",
    "    3. ค้นหาว่าสินค้าที่มีประเภทสินค้าเป็น `Home Decor` ทั้งหมดมีจำนวนเท่าไหร่"
   ]
  },
  {
   "cell_type": "code",
   "execution_count": 4,
   "id": "89e19572",
   "metadata": {},
   "outputs": [],
   "source": []
  },
  {
   "cell_type": "code",
   "execution_count": 5,
   "id": "b41bd1eb",
   "metadata": {},
   "outputs": [],
   "source": []
  },
  {
   "cell_type": "code",
   "execution_count": null,
   "id": "86471274",
   "metadata": {},
   "outputs": [],
   "source": []
  }
 ],
 "metadata": {
  "kernelspec": {
   "display_name": "Django Shell-Plus",
   "language": "python",
   "name": "django_extensions"
  },
  "language_info": {
   "codemirror_mode": {
    "name": "ipython",
    "version": 3
   },
   "file_extension": ".py",
   "mimetype": "text/x-python",
   "name": "python",
   "nbconvert_exporter": "python",
   "pygments_lexer": "ipython3",
   "version": "3.10.5"
  }
 },
 "nbformat": 4,
 "nbformat_minor": 5
}
