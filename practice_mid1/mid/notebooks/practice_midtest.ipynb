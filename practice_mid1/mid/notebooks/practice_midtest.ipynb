{
 "cells": [
  {
   "cell_type": "code",
   "execution_count": 17,
   "id": "44b61b8e",
   "metadata": {},
   "outputs": [],
   "source": [
    "import os\n",
    "os.environ[\"DJANGO_ALLOW_ASYNC_UNSAFE\"] = \"true\"\n",
    "\n",
    "from shop.models import *"
   ]
  },
  {
   "cell_type": "code",
   "execution_count": 24,
   "id": "67b1fc76",
   "metadata": {},
   "outputs": [
    {
     "name": "stdout",
     "output_type": "stream",
     "text": [
      "ORDER ID:22, DATE: 2024-05-01,\n",
      "ORDER ID:23, DATE: 2024-05-01,\n",
      "ORDER ID:24, DATE: 2024-05-01,\n",
      "ORDER ID:25, DATE: 2024-05-02,\n",
      "ORDER ID:26, DATE: 2024-05-02,\n",
      "ORDER ID:27, DATE: 2024-05-02,\n",
      "ORDER ID:28, DATE: 2024-05-03,\n",
      "ORDER ID:29, DATE: 2024-05-03,\n",
      "ORDER ID:30, DATE: 2024-05-03,\n",
      "ORDER ID:31, DATE: 2024-05-04,\n"
     ]
    }
   ],
   "source": [
    "order = Order.objects.filter(order_date__month=5)[:10]\n",
    "for i in order:\n",
    "    print(f\"ORDER ID:{i.id}, DATE: {i.order_date},\")"
   ]
  },
  {
   "cell_type": "code",
   "execution_count": 22,
   "id": "3aa0aba0",
   "metadata": {},
   "outputs": [
    {
     "name": "stdout",
     "output_type": "stream",
     "text": [
      "PRODUCT ID: 1, DESCRIPTION: A sleek and powerful smartphone with advanced features.\n",
      "PRODUCT ID: 7, DESCRIPTION: High-resolution digital camera with advanced photography features.\n",
      "PRODUCT ID: 10, DESCRIPTION: A stylish smartwatch with health monitoring and notification features.\n",
      "PRODUCT ID: 14, DESCRIPTION: Split air conditioner with remote control and energy-saving features.\n",
      "PRODUCT ID: 45, DESCRIPTION: Customizable racing track set with loop and jump features.\n"
     ]
    }
   ],
   "source": [
    "product = Product.objects.filter(description__endswith=\"features.\")\n",
    "for pr in product:\n",
    "    print(f\"PRODUCT ID: {pr.id}, DESCRIPTION: {pr.description}\")"
   ]
  },
  {
   "cell_type": "code",
   "execution_count": 28,
   "id": "e68af8ae",
   "metadata": {},
   "outputs": [
    {
     "name": "stdout",
     "output_type": "stream",
     "text": [
      "PRODUCT ID: 1, NAME Smartphone, PRICE: 5900.00\n",
      "PRODUCT ID: 2, NAME Laptop, PRICE: 25999.00\n",
      "PRODUCT ID: 3, NAME Smart TV, PRICE: 8900.00\n",
      "PRODUCT ID: 5, NAME Tablet, PRICE: 12900.00\n",
      "PRODUCT ID: 6, NAME Gaming Console, PRICE: 5000.00\n",
      "PRODUCT ID: 7, NAME Digital Camera, PRICE: 32000.00\n"
     ]
    }
   ],
   "source": [
    "product_price = Product.objects.filter(price__gte=5000, categories__name=\"Information Technology\")\n",
    "for pr in product_price:\n",
    "    print(f\"PRODUCT ID: {pr.id}, NAME {pr.name}, PRICE: {pr.price}\")"
   ]
  },
  {
   "cell_type": "code",
   "execution_count": 34,
   "id": "bc548873",
   "metadata": {},
   "outputs": [
    {
     "name": "stdout",
     "output_type": "stream",
     "text": [
      "PRODUCT ID: 28, NAME Women's Sweater, PRICE: 190.00\n",
      "PRODUCT ID: 66, NAME Salvage the Bones, PRICE: 129.00\n"
     ]
    }
   ],
   "source": [
    "product_price = Product.objects.filter(price__range=(100, 199))\n",
    "for pr in product_price:\n",
    "    print(f\"PRODUCT ID: {pr.id}, NAME {pr.name}, PRICE: {pr.price}\")"
   ]
  },
  {
   "cell_type": "code",
   "execution_count": null,
   "id": "c79f06cb",
   "metadata": {},
   "outputs": [],
   "source": []
  }
 ],
 "metadata": {
  "kernelspec": {
   "display_name": "Django Shell-Plus",
   "language": "python",
   "name": "django_extensions"
  },
  "language_info": {
   "codemirror_mode": {
    "name": "ipython",
    "version": 3
   },
   "file_extension": ".py",
   "mimetype": "text/x-python",
   "name": "python",
   "nbconvert_exporter": "python",
   "pygments_lexer": "ipython3",
   "version": "3.10.5"
  }
 },
 "nbformat": 4,
 "nbformat_minor": 5
}
