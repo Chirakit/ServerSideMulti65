{
 "cells": [
  {
   "cell_type": "markdown",
   "id": "7680a449",
   "metadata": {},
   "source": [
    "#week4 - Tutorial"
   ]
  },
  {
   "cell_type": "code",
   "execution_count": 12,
   "id": "b7ef60b2",
   "metadata": {},
   "outputs": [],
   "source": [
    "import os\n",
    "os.environ[\"DJANGO_ALLOW_ASYNC_UNSAFE\"] = \"true\""
   ]
  },
  {
   "cell_type": "code",
   "execution_count": 13,
   "id": "1f66116b",
   "metadata": {},
   "outputs": [
    {
     "name": "stdout",
     "output_type": "stream",
     "text": [
      "Beatles Blog\n"
     ]
    }
   ],
   "source": [
    "from blogs.models import Blog\n",
    "\n",
    "for blog in Blog.objects.all():\n",
    "    print(blog)"
   ]
  },
  {
   "cell_type": "code",
   "execution_count": 14,
   "id": "1b03763e",
   "metadata": {},
   "outputs": [],
   "source": [
    "from blogs.models import Blog"
   ]
  },
  {
   "cell_type": "code",
   "execution_count": 15,
   "id": "ff1404ba",
   "metadata": {},
   "outputs": [],
   "source": [
    "b = Blog(name=\"Beatles Blog\", tagline=\"All the latest Beatles news.\")\n",
    "b.save()"
   ]
  },
  {
   "cell_type": "code",
   "execution_count": 16,
   "id": "bc545b9c",
   "metadata": {},
   "outputs": [],
   "source": [
    "b.name = \"New Name\"\n",
    "b.save()"
   ]
  },
  {
   "cell_type": "code",
   "execution_count": 17,
   "id": "f0c9d28d",
   "metadata": {},
   "outputs": [
    {
     "name": "stdout",
     "output_type": "stream",
     "text": [
      "New Name\n"
     ]
    }
   ],
   "source": [
    "print(b)"
   ]
  },
  {
   "cell_type": "code",
   "execution_count": 18,
   "id": "ebd54cde",
   "metadata": {},
   "outputs": [],
   "source": [
    "from blogs.models import Entry\n",
    "import datetime as dt\n",
    "e1 = Entry(\n",
    "    blog = b,\n",
    "    headline = \"Hello world Title\",\n",
    "    body_text = \"LOL\",\n",
    "    pub_date = dt.date(2024, 5, 1),\n",
    "    mod_date = dt.date(2024, 6, 1)\n",
    ")\n",
    "e1.save()"
   ]
  },
  {
   "cell_type": "code",
   "execution_count": 19,
   "id": "b56c5397",
   "metadata": {},
   "outputs": [],
   "source": [
    "b2 = Blog.objects.create(name=\"It kmitl\", tagline=\"It show time\")"
   ]
  },
  {
   "cell_type": "code",
   "execution_count": 20,
   "id": "b03f8d1e",
   "metadata": {},
   "outputs": [],
   "source": [
    "e2 = Entry(\n",
    "    blog = b,\n",
    "    headline = \"Welcome to my world\",\n",
    "    body_text = \"Valorant\",\n",
    "    pub_date = dt.date(2077, 5, 1),\n",
    "    mod_date = dt.date(2077, 6, 1)\n",
    ")\n",
    "e2.save()\n",
    "e3 = Entry(\n",
    "    blog = b,\n",
    "    headline = \"Ya have fun My TURN\",\n",
    "    body_text = \"Valorant CLove\",\n",
    "    pub_date = dt.date(2077, 5, 1),\n",
    "    mod_date = dt.date(2077, 6, 1)\n",
    ")\n",
    "e3.save()"
   ]
  },
  {
   "cell_type": "code",
   "execution_count": 21,
   "id": "1821b043",
   "metadata": {},
   "outputs": [],
   "source": [
    "b1 = Blog.objects.get(pk=1)\n",
    "e3.blog = b1\n",
    "e3.save()"
   ]
  },
  {
   "cell_type": "code",
   "execution_count": 22,
   "id": "64bc307b",
   "metadata": {},
   "outputs": [],
   "source": [
    "from blogs.models import Author\n",
    "a1 = Author.objects.create(name=\"John Doe\", email=\"john4399@gmail.com\")\n",
    "a2 = Author.objects.create(name=\"Jack Doe\", email=\"jack4399@gmail.com\")\n",
    "e3.authors.add(a1,a2)"
   ]
  },
  {
   "cell_type": "code",
   "execution_count": 23,
   "id": "8966f4ee",
   "metadata": {},
   "outputs": [
    {
     "name": "stdout",
     "output_type": "stream",
     "text": [
      "<QuerySet [<Entry: Hello world Title>, <Entry: Welcome to my world>, <Entry: Ya have fun My TURN>]>\n"
     ]
    }
   ],
   "source": [
    "entries = Entry.objects.all()\n",
    "print(entries)"
   ]
  },
  {
   "cell_type": "code",
   "execution_count": 25,
   "id": "361e91ac",
   "metadata": {},
   "outputs": [
    {
     "name": "stdout",
     "output_type": "stream",
     "text": [
      "<QuerySet [<Entry: Hello world Title>]>\n"
     ]
    }
   ],
   "source": [
    "entries = Entry.objects.filter(headline__startswith=\"Hello\")\n",
    "print(entries)"
   ]
  },
  {
   "cell_type": "code",
   "execution_count": 26,
   "id": "d00b7add",
   "metadata": {},
   "outputs": [
    {
     "name": "stdout",
     "output_type": "stream",
     "text": [
      "<QuerySet [<Entry: Welcome to my world>, <Entry: Ya have fun My TURN>]>\n"
     ]
    }
   ],
   "source": [
    "entries = Entry.objects.exclude(headline__startswith=\"Hello\")\n",
    "print(entries)"
   ]
  },
  {
   "cell_type": "code",
   "execution_count": 31,
   "id": "6b0bdd65",
   "metadata": {},
   "outputs": [
    {
     "ename": "SyntaxError",
     "evalue": "keyword argument repeated: pub_date__gte (1506685708.py, line 4)",
     "output_type": "error",
     "traceback": [
      "\u001b[1;36m  Cell \u001b[1;32mIn[31], line 4\u001b[1;36m\u001b[0m\n\u001b[1;33m    pub_date__gte=datetime.date(2005, 1, 30))\u001b[0m\n\u001b[1;37m    ^\u001b[0m\n\u001b[1;31mSyntaxError\u001b[0m\u001b[1;31m:\u001b[0m keyword argument repeated: pub_date__gte\n"
     ]
    }
   ],
   "source": [
    ">>> Entry.objects.filter(\n",
    "    headline__startswith=\"What\",\n",
    "    pub_date__gte=datetime.date.today(),\n",
    "    pub_date__gte=datetime.date(2005, 1, 30))"
   ]
  },
  {
   "cell_type": "code",
   "execution_count": 28,
   "id": "f3186d4c",
   "metadata": {},
   "outputs": [
    {
     "data": {
      "text/plain": [
       "<Entry: Welcome to my world>"
      ]
     },
     "execution_count": 28,
     "metadata": {},
     "output_type": "execute_result"
    }
   ],
   "source": [
    "e = Entry.objects.get(headline__startswith=\"Wel\")\n",
    "e"
   ]
  },
  {
   "cell_type": "markdown",
   "id": "3f1dc7af",
   "metadata": {},
   "source": [
    "get = ข้อมูลต้องมีตัวเดียว ถ้า2ตัวจะ error"
   ]
  },
  {
   "cell_type": "code",
   "execution_count": 29,
   "id": "051dad4a",
   "metadata": {},
   "outputs": [
    {
     "data": {
      "text/plain": [
       "<Entry: Hello world Title>"
      ]
     },
     "execution_count": 29,
     "metadata": {},
     "output_type": "execute_result"
    }
   ],
   "source": [
    "Entry.objects.first()"
   ]
  },
  {
   "cell_type": "code",
   "execution_count": 30,
   "id": "8ccaca52",
   "metadata": {},
   "outputs": [
    {
     "data": {
      "text/plain": [
       "<Entry: Ya have fun My TURN>"
      ]
     },
     "execution_count": 30,
     "metadata": {},
     "output_type": "execute_result"
    }
   ],
   "source": [
    "Entry.objects.last()"
   ]
  },
  {
   "cell_type": "code",
   "execution_count": 32,
   "id": "cb1e795d",
   "metadata": {},
   "outputs": [
    {
     "data": {
      "text/plain": [
       "<Entry: Hello world Title>"
      ]
     },
     "execution_count": 32,
     "metadata": {},
     "output_type": "execute_result"
    }
   ],
   "source": [
    "e = Entry.objects.first() \n",
    "e"
   ]
  },
  {
   "cell_type": "code",
   "execution_count": 33,
   "id": "8302bde7",
   "metadata": {},
   "outputs": [],
   "source": [
    "e.pk = None\n",
    "e._state.adding = True\n",
    "e.save()"
   ]
  },
  {
   "cell_type": "code",
   "execution_count": null,
   "id": "ea7a30d9",
   "metadata": {},
   "outputs": [],
   "source": []
  }
 ],
 "metadata": {
  "kernelspec": {
   "display_name": "Django Shell-Plus",
   "language": "python",
   "name": "django_extensions"
  },
  "language_info": {
   "codemirror_mode": {
    "name": "ipython",
    "version": 3
   },
   "file_extension": ".py",
   "mimetype": "text/x-python",
   "name": "python",
   "nbconvert_exporter": "python",
   "pygments_lexer": "ipython3",
   "version": "3.10.5"
  }
 },
 "nbformat": 4,
 "nbformat_minor": 5
}
