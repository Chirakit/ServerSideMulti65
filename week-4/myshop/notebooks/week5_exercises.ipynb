{
 "cells": [
  {
   "cell_type": "markdown",
   "metadata": {},
   "source": [
    "![erd](images/ERD.png)"
   ]
  },
  {
   "cell_type": "markdown",
   "metadata": {},
   "source": [
    "## Instruction\n",
    "\n",
    "1. ใช้ project myshop เดิมจากของ WEEK 4 มาทำต่อได้เลยครับ (ใครที่หา project ของ WEEK 4 ไม่เจอแล้ว ให้กลับไปทำตามขั้ยตอนใน week4_exercises.ipynb)\n",
    "2. ใช้ database `shop` เดิมได้เลยเช่นกันครับ\n",
    "\n",
    "**หมายเหตุ: ถ้านักศึกษาใช้ database เดิมจาก WEEK4 ซึ่งนักศึกษาเคยเพิ่มหรือแก้ไขข้อมูลบางส่วนแล้ว ดังนั้น output อาจจะไม่ตรงกับในตัวอย่างทั้งหมดไม่ต้องตกใจนะครับ**"
   ]
  },
  {
   "cell_type": "code",
   "execution_count": 11,
   "metadata": {},
   "outputs": [],
   "source": [
    "import os\n",
    "os.environ['DJANGO_ALLOW_ASYNC_UNSAFE'] = \"true\"\n",
    "\n",
    "# import modules\n",
    "from shop.models import *"
   ]
  },
  {
   "cell_type": "markdown",
   "metadata": {},
   "source": [
    "### 1. annotate(), F()"
   ]
  },
  {
   "cell_type": "markdown",
   "metadata": {},
   "source": [
    "1.1 ให้นักศึกษาค้นหาข้อมูล `Payment` โดยให้เพิ่ม field ราคาที่ลบกับส่วนลดแล้ว โดยกำหนดให้ชื่อ field ว่า \"after_discount_price\" โดยใช้แสดงข้อมูล 10 ตัวแรกเรียงตาม \"after_discount_price\" จากมากไปน้อย (0.25 คะแนน)\n",
    "\n",
    "**หมายเหตุ: จะต้องใช้ annotate() นะครับ ให้เอา `Payment.price` - `Payment.discount`**\n",
    "\n",
    "ตัวอย่าง Output\n",
    "\n",
    "```\n",
    "ID: 92, PRICE: 1200500.00, DISCOUNT 29433.25, AFTER_DISCOUNT 1171066.75\n",
    "ID: 82, PRICE: 1200280.00, DISCOUNT 46229.40, AFTER_DISCOUNT 1154050.60\n",
    "ID: 137, PRICE: 1200690.00, DISCOUNT 71407.25, AFTER_DISCOUNT 1129282.75\n",
    "ID: 105, PRICE: 1200390.00, DISCOUNT 105019.11, AFTER_DISCOUNT 1095370.89\n",
    "ID: 45, PRICE: 1218900.00, DISCOUNT 126859.95, AFTER_DISCOUNT 1092040.05\n",
    "ID: 7, PRICE: 1201200.00, DISCOUNT 113446.20, AFTER_DISCOUNT 1087753.80\n",
    "ID: 18, PRICE: 1202190.00, DISCOUNT 121922.64, AFTER_DISCOUNT 1080267.36\n",
    "ID: 77, PRICE: 379000.00, DISCOUNT 19397.00, AFTER_DISCOUNT 359603.00\n",
    "ID: 127, PRICE: 320450.00, DISCOUNT 14578.90, AFTER_DISCOUNT 305871.10\n",
    "ID: 125, PRICE: 320399.00, DISCOUNT 17939.55, AFTER_DISCOUNT 302459.45\n",
    "```"
   ]
  },
  {
   "cell_type": "code",
   "execution_count": 39,
   "metadata": {},
   "outputs": [
    {
     "name": "stdout",
     "output_type": "stream",
     "text": [
      "ID: 92, PRICE: 1200500.00,DISCOUNT 29433.25, AFTER_DISCOUNT 1171066.75\n",
      "ID: 82, PRICE: 1200280.00,DISCOUNT 46229.40, AFTER_DISCOUNT 1154050.60\n",
      "ID: 137, PRICE: 1200690.00,DISCOUNT 71407.25, AFTER_DISCOUNT 1129282.75\n",
      "ID: 105, PRICE: 1200390.00,DISCOUNT 105019.11, AFTER_DISCOUNT 1095370.89\n",
      "ID: 45, PRICE: 1218900.00,DISCOUNT 126859.95, AFTER_DISCOUNT 1092040.05\n",
      "ID: 7, PRICE: 1201200.00,DISCOUNT 113446.20, AFTER_DISCOUNT 1087753.80\n",
      "ID: 18, PRICE: 1202190.00,DISCOUNT 121922.64, AFTER_DISCOUNT 1080267.36\n",
      "ID: 77, PRICE: 379000.00,DISCOUNT 19397.00, AFTER_DISCOUNT 359603.00\n",
      "ID: 127, PRICE: 320450.00,DISCOUNT 14578.90, AFTER_DISCOUNT 305871.10\n",
      "ID: 125, PRICE: 320399.00,DISCOUNT 17939.55, AFTER_DISCOUNT 302459.45\n"
     ]
    }
   ],
   "source": [
    "after_discount = Payment.objects.annotate(num_discount=F('price')-F('discount')).order_by(\"-num_discount\")[:10]\n",
    "for order in after_discount:\n",
    "    print(f\"ID: {order.id}, PRICE: {order.price},DISCOUNT {order.discount}, AFTER_DISCOUNT {order.num_discount}\")"
   ]
  },
  {
   "cell_type": "markdown",
   "metadata": {},
   "source": [
    "1.2 ต่อเนื่องจากข้อ 1.1 ให้ filter เฉพาะข้อมูล `Payment` ที่มี \"after_discount_price\" มากกว่า 500,000 (0.25 คะแนน)\n",
    "\n",
    "ตัวอย่าง Output\n",
    "\n",
    "```\n",
    "ID: 92, PRICE: 1200500.00, DISCOUNT 29433.25, AFTER_DISCOUNT 1171066.75\n",
    "ID: 82, PRICE: 1200280.00, DISCOUNT 46229.40, AFTER_DISCOUNT 1154050.60\n",
    "ID: 137, PRICE: 1200690.00, DISCOUNT 71407.25, AFTER_DISCOUNT 1129282.75\n",
    "ID: 105, PRICE: 1200390.00, DISCOUNT 105019.11, AFTER_DISCOUNT 1095370.89\n",
    "ID: 45, PRICE: 1218900.00, DISCOUNT 126859.95, AFTER_DISCOUNT 1092040.05\n",
    "ID: 7, PRICE: 1201200.00, DISCOUNT 113446.20, AFTER_DISCOUNT 1087753.80\n",
    "ID: 18, PRICE: 1202190.00, DISCOUNT 121922.64, AFTER_DISCOUNT 1080267.36\n",
    "```"
   ]
  },
  {
   "cell_type": "code",
   "execution_count": 41,
   "metadata": {},
   "outputs": [
    {
     "name": "stdout",
     "output_type": "stream",
     "text": [
      "ID: 92, PRICE: 1200500.00,DISCOUNT 29433.25, AFTER_DISCOUNT 1171066.75\n",
      "ID: 82, PRICE: 1200280.00,DISCOUNT 46229.40, AFTER_DISCOUNT 1154050.60\n",
      "ID: 137, PRICE: 1200690.00,DISCOUNT 71407.25, AFTER_DISCOUNT 1129282.75\n",
      "ID: 105, PRICE: 1200390.00,DISCOUNT 105019.11, AFTER_DISCOUNT 1095370.89\n",
      "ID: 45, PRICE: 1218900.00,DISCOUNT 126859.95, AFTER_DISCOUNT 1092040.05\n",
      "ID: 7, PRICE: 1201200.00,DISCOUNT 113446.20, AFTER_DISCOUNT 1087753.80\n",
      "ID: 18, PRICE: 1202190.00,DISCOUNT 121922.64, AFTER_DISCOUNT 1080267.36\n"
     ]
    }
   ],
   "source": [
    "after_discount = Payment.objects.annotate(num_discount=F('price')-F('discount')).order_by(\"-num_discount\").filter(num_discount__gt=500000)[:10]\n",
    "for order in after_discount:\n",
    "    print(f\"ID: {order.id}, PRICE: {order.price},DISCOUNT {order.discount}, AFTER_DISCOUNT {order.num_discount}\")"
   ]
  },
  {
   "cell_type": "markdown",
   "metadata": {},
   "source": [
    "1.3 ให้นักศึกษาเรียงลำดับข้อมูลลูกค้า (`Customer`) โดยเรียงลำดับตามลำดับตัวอักษร `น้อยไปมาก` จากชื่อเต็มของลูกค้า (`full_name`) โดยแสดง 5 คนแรก (0.5 คะแนน)\n",
    "\n",
    "**Hint:** Field `full_name` นั้นจะต้องถูก annotate ขึ้นมาโดยการนำ `first_name` มาต่อกับ `last_name` โดยใช้ `Concat(*expressions, **extra)` \n",
    "\n",
    "**Hint:** แปลง object เป็น dict ใช้ `values()` [doc](https://docs.djangoproject.com/en/5.0/ref/models/querysets/#values)\n",
    "\n",
    "```python\n",
    ">>> Blog.objects.filter(name__startswith=\"Beatles\").values()\n",
    "<QuerySet [{'id': 1, 'name': 'Beatles Blog', 'tagline': 'All the latest Beatles news.'}]>\n",
    "```\n",
    "\n",
    "**Hint:** อยาก print dictionary สวยๆ ใช้ `json.dumps`\n",
    "\n",
    "```python\n",
    "print(json.dumps(dictionary, indent=4, sort_keys=False))\n",
    "```\n",
    "\n",
    "[doc](https://docs.djangoproject.com/en/5.0/ref/models/database-functions/#concat)\n",
    "\n",
    "ตัวอย่าง Output \n",
    "\n",
    "```python\n",
    "{\n",
    "    \"id\": 17,\n",
    "    \"email\": \"anantaya.deena@gmail.com\",\n",
    "    \"address\": {\n",
    "        \"district\": \"Yan Nawa\",\n",
    "        \"location\": \"60 Thanon Chan Road\",\n",
    "        \"province\": \"Bangkok\",\n",
    "        \"postal_code\": 10120\n",
    "    },\n",
    "    \"full_name\": \"Anantaya Tontong\"\n",
    "}\n",
    "{\n",
    "    \"id\": 25,\n",
    "    \"email\": \"bancha.zeyou@gmail.com\",\n",
    "    \"address\": {\n",
    "        \"district\": \"Watthana\",\n",
    "        \"location\": \"6 Thong Lo Road\",\n",
    "        \"province\": \"Bangkok\",\n",
    "        \"postal_code\": 10110\n",
    "    },\n",
    "    \"full_name\": \"Bancha Kittisompong\"\n",
    "}\n",
    "{\n",
    "    \"id\": 19,\n",
    "    \"email\": \"chayapol.231@gmail.com\",\n",
    "    \"address\": {\n",
    "        \"district\": \"Hang Chat\",\n",
    "        \"location\": \"160 Lampang Road\",\n",
    "        \"province\": \"Lampang\",\n",
    "        \"postal_code\": 52190\n",
    "    },\n",
    "    \"full_name\": \"Chayapol Komprach\"\n",
    "}\n",
    "{\n",
    "    \"id\": 4,\n",
    "    \"email\": \"dejwit.tt@gmail.com\",\n",
    "    \"address\": {\n",
    "        \"district\": \"Chiang Khan\",\n",
    "        \"location\": \"150 Loei Road\",\n",
    "        \"province\": \"Loei\",\n",
    "        \"postal_code\": 42110\n",
    "    },\n",
    "    \"full_name\": \"Dejwit Tangjareonsakul\"\n",
    "}\n",
    "{\n",
    "    \"id\": 11,\n",
    "    \"email\": \"jack.maa@gmail.com\",\n",
    "    \"address\": {\n",
    "        \"district\": \"Bang Khen\",\n",
    "        \"location\": \"88 Phahonyothin Road\",\n",
    "        \"province\": \"Bangkok\",\n",
    "        \"postal_code\": 10220\n",
    "    },\n",
    "    \"full_name\": \"Jack Maa\"\n",
    "}\n",
    "\n",
    "```"
   ]
  },
  {
   "cell_type": "code",
   "execution_count": 100,
   "metadata": {},
   "outputs": [
    {
     "ename": "TypeError",
     "evalue": "Object of type QuerySet is not JSON serializable",
     "output_type": "error",
     "traceback": [
      "\u001b[1;31m---------------------------------------------------------------------------\u001b[0m",
      "\u001b[1;31mTypeError\u001b[0m                                 Traceback (most recent call last)",
      "Cell \u001b[1;32mIn[100], line 5\u001b[0m\n\u001b[0;32m      3\u001b[0m \u001b[38;5;28;01mimport\u001b[39;00m \u001b[38;5;21;01mjson\u001b[39;00m\n\u001b[0;32m      4\u001b[0m cus_name \u001b[38;5;241m=\u001b[39m Customer\u001b[38;5;241m.\u001b[39mobjects\u001b[38;5;241m.\u001b[39mannotate(full_name\u001b[38;5;241m=\u001b[39mConcat(\u001b[38;5;124m\"\u001b[39m\u001b[38;5;124mfirst_name\u001b[39m\u001b[38;5;124m\"\u001b[39m, Value(\u001b[38;5;124m\"\u001b[39m\u001b[38;5;124m \u001b[39m\u001b[38;5;124m\"\u001b[39m), \u001b[38;5;124m\"\u001b[39m\u001b[38;5;124mlast_name\u001b[39m\u001b[38;5;124m\"\u001b[39m))\u001b[38;5;241m.\u001b[39morder_by(\u001b[38;5;124m\"\u001b[39m\u001b[38;5;124mfull_name\u001b[39m\u001b[38;5;124m\"\u001b[39m)[:\u001b[38;5;241m5\u001b[39m]\u001b[38;5;241m.\u001b[39mvalues()\n\u001b[1;32m----> 5\u001b[0m \u001b[38;5;28mprint\u001b[39m(\u001b[43mjson\u001b[49m\u001b[38;5;241;43m.\u001b[39;49m\u001b[43mdumps\u001b[49m\u001b[43m(\u001b[49m\u001b[43m(\u001b[49m\u001b[43mcus_name\u001b[49m\u001b[43m)\u001b[49m\u001b[43m,\u001b[49m\u001b[43m \u001b[49m\u001b[43mindent\u001b[49m\u001b[38;5;241;43m=\u001b[39;49m\u001b[38;5;241;43m4\u001b[39;49m\u001b[43m,\u001b[49m\u001b[43m \u001b[49m\u001b[43msort_keys\u001b[49m\u001b[38;5;241;43m=\u001b[39;49m\u001b[38;5;28;43;01mFalse\u001b[39;49;00m\u001b[43m)\u001b[49m)\n",
      "File \u001b[1;32m~\\AppData\\Local\\Programs\\Python\\Python310\\lib\\json\\__init__.py:238\u001b[0m, in \u001b[0;36mdumps\u001b[1;34m(obj, skipkeys, ensure_ascii, check_circular, allow_nan, cls, indent, separators, default, sort_keys, **kw)\u001b[0m\n\u001b[0;32m    232\u001b[0m \u001b[38;5;28;01mif\u001b[39;00m \u001b[38;5;28mcls\u001b[39m \u001b[38;5;129;01mis\u001b[39;00m \u001b[38;5;28;01mNone\u001b[39;00m:\n\u001b[0;32m    233\u001b[0m     \u001b[38;5;28mcls\u001b[39m \u001b[38;5;241m=\u001b[39m JSONEncoder\n\u001b[0;32m    234\u001b[0m \u001b[38;5;28;01mreturn\u001b[39;00m \u001b[38;5;28;43mcls\u001b[39;49m\u001b[43m(\u001b[49m\n\u001b[0;32m    235\u001b[0m \u001b[43m    \u001b[49m\u001b[43mskipkeys\u001b[49m\u001b[38;5;241;43m=\u001b[39;49m\u001b[43mskipkeys\u001b[49m\u001b[43m,\u001b[49m\u001b[43m \u001b[49m\u001b[43mensure_ascii\u001b[49m\u001b[38;5;241;43m=\u001b[39;49m\u001b[43mensure_ascii\u001b[49m\u001b[43m,\u001b[49m\n\u001b[0;32m    236\u001b[0m \u001b[43m    \u001b[49m\u001b[43mcheck_circular\u001b[49m\u001b[38;5;241;43m=\u001b[39;49m\u001b[43mcheck_circular\u001b[49m\u001b[43m,\u001b[49m\u001b[43m \u001b[49m\u001b[43mallow_nan\u001b[49m\u001b[38;5;241;43m=\u001b[39;49m\u001b[43mallow_nan\u001b[49m\u001b[43m,\u001b[49m\u001b[43m \u001b[49m\u001b[43mindent\u001b[49m\u001b[38;5;241;43m=\u001b[39;49m\u001b[43mindent\u001b[49m\u001b[43m,\u001b[49m\n\u001b[0;32m    237\u001b[0m \u001b[43m    \u001b[49m\u001b[43mseparators\u001b[49m\u001b[38;5;241;43m=\u001b[39;49m\u001b[43mseparators\u001b[49m\u001b[43m,\u001b[49m\u001b[43m \u001b[49m\u001b[43mdefault\u001b[49m\u001b[38;5;241;43m=\u001b[39;49m\u001b[43mdefault\u001b[49m\u001b[43m,\u001b[49m\u001b[43m \u001b[49m\u001b[43msort_keys\u001b[49m\u001b[38;5;241;43m=\u001b[39;49m\u001b[43msort_keys\u001b[49m\u001b[43m,\u001b[49m\n\u001b[1;32m--> 238\u001b[0m \u001b[43m    \u001b[49m\u001b[38;5;241;43m*\u001b[39;49m\u001b[38;5;241;43m*\u001b[39;49m\u001b[43mkw\u001b[49m\u001b[43m)\u001b[49m\u001b[38;5;241;43m.\u001b[39;49m\u001b[43mencode\u001b[49m\u001b[43m(\u001b[49m\u001b[43mobj\u001b[49m\u001b[43m)\u001b[49m\n",
      "File \u001b[1;32m~\\AppData\\Local\\Programs\\Python\\Python310\\lib\\json\\encoder.py:201\u001b[0m, in \u001b[0;36mJSONEncoder.encode\u001b[1;34m(self, o)\u001b[0m\n\u001b[0;32m    199\u001b[0m chunks \u001b[38;5;241m=\u001b[39m \u001b[38;5;28mself\u001b[39m\u001b[38;5;241m.\u001b[39miterencode(o, _one_shot\u001b[38;5;241m=\u001b[39m\u001b[38;5;28;01mTrue\u001b[39;00m)\n\u001b[0;32m    200\u001b[0m \u001b[38;5;28;01mif\u001b[39;00m \u001b[38;5;129;01mnot\u001b[39;00m \u001b[38;5;28misinstance\u001b[39m(chunks, (\u001b[38;5;28mlist\u001b[39m, \u001b[38;5;28mtuple\u001b[39m)):\n\u001b[1;32m--> 201\u001b[0m     chunks \u001b[38;5;241m=\u001b[39m \u001b[38;5;28;43mlist\u001b[39;49m\u001b[43m(\u001b[49m\u001b[43mchunks\u001b[49m\u001b[43m)\u001b[49m\n\u001b[0;32m    202\u001b[0m \u001b[38;5;28;01mreturn\u001b[39;00m \u001b[38;5;124m'\u001b[39m\u001b[38;5;124m'\u001b[39m\u001b[38;5;241m.\u001b[39mjoin(chunks)\n",
      "File \u001b[1;32m~\\AppData\\Local\\Programs\\Python\\Python310\\lib\\json\\encoder.py:438\u001b[0m, in \u001b[0;36m_make_iterencode.<locals>._iterencode\u001b[1;34m(o, _current_indent_level)\u001b[0m\n\u001b[0;32m    436\u001b[0m         \u001b[38;5;28;01mraise\u001b[39;00m \u001b[38;5;167;01mValueError\u001b[39;00m(\u001b[38;5;124m\"\u001b[39m\u001b[38;5;124mCircular reference detected\u001b[39m\u001b[38;5;124m\"\u001b[39m)\n\u001b[0;32m    437\u001b[0m     markers[markerid] \u001b[38;5;241m=\u001b[39m o\n\u001b[1;32m--> 438\u001b[0m o \u001b[38;5;241m=\u001b[39m \u001b[43m_default\u001b[49m\u001b[43m(\u001b[49m\u001b[43mo\u001b[49m\u001b[43m)\u001b[49m\n\u001b[0;32m    439\u001b[0m \u001b[38;5;28;01myield from\u001b[39;00m _iterencode(o, _current_indent_level)\n\u001b[0;32m    440\u001b[0m \u001b[38;5;28;01mif\u001b[39;00m markers \u001b[38;5;129;01mis\u001b[39;00m \u001b[38;5;129;01mnot\u001b[39;00m \u001b[38;5;28;01mNone\u001b[39;00m:\n",
      "File \u001b[1;32m~\\AppData\\Local\\Programs\\Python\\Python310\\lib\\json\\encoder.py:179\u001b[0m, in \u001b[0;36mJSONEncoder.default\u001b[1;34m(self, o)\u001b[0m\n\u001b[0;32m    160\u001b[0m \u001b[38;5;28;01mdef\u001b[39;00m \u001b[38;5;21mdefault\u001b[39m(\u001b[38;5;28mself\u001b[39m, o):\n\u001b[0;32m    161\u001b[0m \u001b[38;5;250m    \u001b[39m\u001b[38;5;124;03m\"\"\"Implement this method in a subclass such that it returns\u001b[39;00m\n\u001b[0;32m    162\u001b[0m \u001b[38;5;124;03m    a serializable object for ``o``, or calls the base implementation\u001b[39;00m\n\u001b[0;32m    163\u001b[0m \u001b[38;5;124;03m    (to raise a ``TypeError``).\u001b[39;00m\n\u001b[1;32m   (...)\u001b[0m\n\u001b[0;32m    177\u001b[0m \n\u001b[0;32m    178\u001b[0m \u001b[38;5;124;03m    \"\"\"\u001b[39;00m\n\u001b[1;32m--> 179\u001b[0m     \u001b[38;5;28;01mraise\u001b[39;00m \u001b[38;5;167;01mTypeError\u001b[39;00m(\u001b[38;5;124mf\u001b[39m\u001b[38;5;124m'\u001b[39m\u001b[38;5;124mObject of type \u001b[39m\u001b[38;5;132;01m{\u001b[39;00mo\u001b[38;5;241m.\u001b[39m\u001b[38;5;18m__class__\u001b[39m\u001b[38;5;241m.\u001b[39m\u001b[38;5;18m__name__\u001b[39m\u001b[38;5;132;01m}\u001b[39;00m\u001b[38;5;124m \u001b[39m\u001b[38;5;124m'\u001b[39m\n\u001b[0;32m    180\u001b[0m                     \u001b[38;5;124mf\u001b[39m\u001b[38;5;124m'\u001b[39m\u001b[38;5;124mis not JSON serializable\u001b[39m\u001b[38;5;124m'\u001b[39m)\n",
      "\u001b[1;31mTypeError\u001b[0m: Object of type QuerySet is not JSON serializable"
     ]
    }
   ],
   "source": [
    "from django.db.models import Value\n",
    "from django.db.models.functions import Concat\n",
    "import json\n",
    "cus_name = Customer.objects.annotate(full_name=Concat(\"first_name\", Value(\" \"), \"last_name\")).order_by(\"full_name\")[:5].values()\n",
    "print(json.dumps((cus_name), indent=4, sort_keys=False))"
   ]
  },
  {
   "cell_type": "markdown",
   "metadata": {},
   "source": [
    "### 3. aggregation - count(), sum(), AVG()\n"
   ]
  },
  {
   "cell_type": "markdown",
   "metadata": {},
   "source": [
    "3.1 ให้นักศึกษาหาค่าเฉลี่ยของราคาสินค้า (`Product.price`) ที่มีจำนวนคงเหลือ (`Product.remaining_amount`) มากกว่า 0 (0.25 คะแนน)\n",
    "\n",
    "``` PYTHON\n",
    "{'avg': Decimal('29308.000000000000')}\n",
    "```\n"
   ]
  },
  {
   "cell_type": "code",
   "execution_count": 101,
   "metadata": {},
   "outputs": [
    {
     "data": {
      "text/plain": [
       "{'avg': 71}"
      ]
     },
     "execution_count": 101,
     "metadata": {},
     "output_type": "execute_result"
    }
   ],
   "source": [
    "from django.db.models import Avg, Sum, Count, Min, Max\n",
    "Product.objects.filter(remaining_amount__gt=0).aggregate(avg=Count(\"name\"))"
   ]
  },
  {
   "cell_type": "markdown",
   "metadata": {},
   "source": [
    "3.2 จงหาผลรวมราคา (`CartItem.product.price`) ที่อยู่ในตระกร้าสินค้าของเดือน `พฤษภาคม` (ดูจาก `Cart.create_date`) (0.5 คะแนน)\n",
    "\n",
    "```PYTHON\n",
    "{'sum': Decimal('9912555.00')}\n",
    "\n",
    "```"
   ]
  },
  {
   "cell_type": "code",
   "execution_count": 97,
   "metadata": {},
   "outputs": [
    {
     "data": {
      "text/plain": [
       "{'sum': Decimal('9912555.00')}"
      ]
     },
     "execution_count": 97,
     "metadata": {},
     "output_type": "execute_result"
    }
   ],
   "source": [
    "CartItem.objects.filter(cart__create_date__month=5).aggregate(sum=Sum(\"product__price\"))"
   ]
  },
  {
   "cell_type": "markdown",
   "metadata": {},
   "source": [
    "3.3 ให้นักศึกษานับจำนวนสินค้าที่อยู่ประเภท `Electronics`,  `Jewelry` และ ราคาของสินค้าอยู่ในช่วง 8,000.00 - 50,000.00 (0.25 คะแนน)\n",
    "\n",
    "```\n",
    "PRODUCT CATEGORY NAME: Electronics, PRODUCT COUNT: 6\n",
    "PRODUCT CATEGORY NAME: Jewelry, PRODUCT COUNT: 1\n",
    "```"
   ]
  },
  {
   "cell_type": "code",
   "execution_count": null,
   "metadata": {},
   "outputs": [],
   "source": [
    "# code here"
   ]
  },
  {
   "cell_type": "markdown",
   "metadata": {},
   "source": [
    "### 4. one-to-one & one-to-many"
   ]
  },
  {
   "cell_type": "markdown",
   "metadata": {},
   "source": [
    "4.1 ให้นักศึกษาทำการ INSERT ข้อมูลใบสั่งซื้อ (`Order`) และการชำระเงิน (`Payment`) ของลูกค้าชื่อ `Manit Senapan` ตามรายการดังนี้ให้สมบูรณ์ (0.5 คะแนน)\n",
    "\n",
    "**Hint:** ใน model `Payment` เรามีการเก็บค่า `price` เป็น Decimal ทำให้ค่าของราคาเป็น Decimal เช่นกัน)\n",
    "[Decimal](https://docs.python.org/3/library/decimal.html)\n",
    "\n",
    "- ออกใบสั่งซื้อวันที่ 5 สิงหาคม 2024\n",
    "- ชำระเงินวันที่ 6 สิงหาคม 2024\n",
    "- หมายเหตุ: `ฉันรวย อยากใช้เงินเยอะๆ`\n",
    "    \n",
    "    โดย Manit สั่งสิ้นค้าดั่งนี้\n",
    "\n",
    "        - Diamond Stud Earrings จำนวน 1 ชิ้น\n",
    "\n",
    "        - Sofa จำนวน 2 ชิ้น\n",
    "\n",
    "        - Rose Gold Hoop Earrings จำนวน 1 ชิ้น\n",
    "    \n",
    "- โดยที่ Manit ได้รับส่วนลดชิ้นละ 10 % ของสินค้า และมีการระบุหมายเหตุตอนชำระเงินว่า `ลูกค้า VIP ของเรา`\n",
    "    \n",
    "- พร้อมชำระเงินโดยให้ 50 % ของราคาทั้งหมดชำระด้วยการแสกน QR code และที่เหลือชำระผ่านบัตรเคดิต\n",
    "\n",
    "- จากนั้นให้ระบบแสดงผลการสร้างใบสั่งซื้อ และการชำระเงินของ Manit ให้ถูกต้อง\n",
    "\n",
    "\n",
    "ตัวอย่าง output ที่ต้องการ\n",
    "```PYTHON\n",
    "{\n",
    "    'order_id': 186,\n",
    "    'order_date': '2024-08-05',\n",
    "    'order_remark': 'ฉันรวย อยากใช้เงินเยอะๆ',\n",
    "    'products': [\n",
    "        {\n",
    "            'product': 'Diamond Stud Earrings',\n",
    "            'amount': 1,\n",
    "            'price': 320000.0,\n",
    "            'discount': 32000.0\n",
    "        },\n",
    "        {\n",
    "            'product': 'Sofa', \n",
    "            'amount': 2, \n",
    "            'price': 14000.0, \n",
    "            'discount': 1400.0\n",
    "        },\n",
    "        {\n",
    "            'product': 'Rose Gold Hoop Earrings',\n",
    "            'amount': 1,\n",
    "            'price': 1200000.0,\n",
    "            'discount': 120000.0\n",
    "        }\n",
    "    ],\n",
    "    'payment_date': '2024-08-06',\n",
    "    'payment_remark': 'ลูกค้า VIP ของเรา',\n",
    "    'payment_method': [\n",
    "        {\n",
    "            'method': 'QR', \n",
    "            'price': 767000.0\n",
    "        },\n",
    "        {\n",
    "            'method': 'CREDIT', \n",
    "            'price': 767000.0\n",
    "        }\n",
    "    ]\n",
    "}\n",
    "\n",
    "```"
   ]
  },
  {
   "cell_type": "code",
   "execution_count": null,
   "metadata": {},
   "outputs": [],
   "source": [
    "# code here - INSERT"
   ]
  },
  {
   "cell_type": "code",
   "execution_count": null,
   "metadata": {},
   "outputs": [],
   "source": [
    "# code here - แสดงผล"
   ]
  },
  {
   "cell_type": "markdown",
   "metadata": {},
   "source": [
    "### 5. many-to-many"
   ]
  },
  {
   "cell_type": "markdown",
   "metadata": {},
   "source": [
    "5.1 ให้นักศึกษาค้นหาข้อมูลสินค้า (`Product`) ที่อยู่ในประเภทสินค้า \"Information Technology\" 10 รายการแรก (เรียงลำดับด้วย `Product.id`) และแสดงชื่อประเภทสินค้า (`ProductCategory`) (0.25 คะแนน)\n",
    "\n",
    "ตัวอย่าง Output บางส่วน\n",
    "\n",
    "```\n",
    "PRODUCT ID: 1, PRODUCT NAME: Smartphone, PRODUCT CATEGORY: Information technology, Electronics\n",
    "PRODUCT ID: 2, PRODUCT NAME: Laptop, PRODUCT CATEGORY: Information technology, Electronics\n",
    "PRODUCT ID: 3, PRODUCT NAME: Smart TV, PRODUCT CATEGORY: Information technology, Electronics\n",
    "```"
   ]
  },
  {
   "cell_type": "code",
   "execution_count": null,
   "metadata": {},
   "outputs": [],
   "source": [
    "# code here\n"
   ]
  },
  {
   "cell_type": "markdown",
   "metadata": {},
   "source": [
    "5.2 ให้นักศึกษาทำตามขั้นตอนดังนี้ (0.25 คะแนน)\n",
    "\n",
    "**หมายเหตุ: ถ้าใช้ DB จาก WEEK4 `Books and Media` อาจจะถูกเปลี่ยนเป็น `Books` แล้ว**\n",
    "\n",
    "    1. เปลี่ยนชื่อประเภทสินค้า `Books and Media` เป็น `Books and Toys` \n",
    "    2. ลบประเภท `Toys and Games` ออกโดยให้ใช้เป็น `Books and Toys` แทน\n",
    "    3. ค้นหาว่าสินค้าที่มีประเภทสินค้าเป็น `Books and Toys` ทั้งหมดมีจำนวนเท่าไหร่"
   ]
  },
  {
   "cell_type": "code",
   "execution_count": null,
   "metadata": {},
   "outputs": [],
   "source": [
    "# code here"
   ]
  }
 ],
 "metadata": {
  "kernelspec": {
   "display_name": "Django Shell-Plus",
   "language": "python",
   "name": "django_extensions"
  },
  "language_info": {
   "codemirror_mode": {
    "name": "ipython",
    "version": 3
   },
   "file_extension": ".py",
   "mimetype": "text/x-python",
   "name": "python",
   "nbconvert_exporter": "python",
   "pygments_lexer": "ipython3",
   "version": "3.10.5"
  }
 },
 "nbformat": 4,
 "nbformat_minor": 2
}
